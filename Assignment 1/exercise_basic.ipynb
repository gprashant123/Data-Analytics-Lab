{
 "cells": [
  {
   "cell_type": "markdown",
   "metadata": {},
   "source": [
    "1) Given the array split the array at the middle (if it is odd length consider next higher integer), add reverse the array.\n",
    "\n",
    "Ex:\n",
    "if input is [12,10,5,6,52,36] \n",
    "output should be [6,52,36,12,10,5]\n",
    "\n",
    "if input is  [12,10,5,6,52,36,34]\n",
    "output should be [6,52,36,34,12,10,5]"
   ]
  },
  {
   "cell_type": "code",
   "execution_count": 56,
   "metadata": {},
   "outputs": [],
   "source": [
    "import math\n",
    "# Complete this function to get the desired result\n",
    "def reverseatCenter(arr):\n",
    "    n = len(arr)  #length of the array\n",
    "    m = n//2      #Middle element\n",
    "    arr2 = arr[m:]+arr[:m]     #Reversing the sub-lists\n",
    "    return arr2"
   ]
  },
  {
   "cell_type": "code",
   "execution_count": 57,
   "metadata": {},
   "outputs": [
    {
     "name": "stdout",
     "output_type": "stream",
     "text": [
      "Example 1 - [14,9,5,6,52,36,34]\n",
      "[52, 36, 34, 23, 111, 14, 9, 5, 6]\n",
      "Example 2 - [14,9,5,6,52,36]\n",
      "[6, 52, 36, 14, 9, 5]\n"
     ]
    }
   ],
   "source": [
    "# Print wroking examples\n",
    "print(\"Example 1 - [14,9,5,6,52,36,34]\")\n",
    "print(reverseatCenter([14,9,5,6,52,36,34,23,111]))\n",
    "print(\"Example 2 - [14,9,5,6,52,36]\")\n",
    "print(reverseatCenter([14,9,5,6,52,36]))"
   ]
  },
  {
   "cell_type": "markdown",
   "metadata": {},
   "source": [
    "2) Given a list of numbers, return a list where all adjacent duplicate elements have been removed.\n",
    "\n",
    "Ex:\n",
    "\n",
    "2, 2, 2, 3, 2 returns 2, 3, 2."
   ]
  },
  {
   "cell_type": "code",
   "execution_count": 58,
   "metadata": {},
   "outputs": [],
   "source": [
    "# Complete the function to get the desired result\n",
    "def remove_adjacent(b):\n",
    "    b2 = [b[0]]\n",
    "    for i in range(1,len(b)):\n",
    "        #Checking consecutive repitions\n",
    "        if b2[-1]!=b[i]:\n",
    "            b2.append(b[i])\n",
    "    return b2"
   ]
  },
  {
   "cell_type": "code",
   "execution_count": 59,
   "metadata": {},
   "outputs": [
    {
     "name": "stdout",
     "output_type": "stream",
     "text": [
      "Example 1 - [2, 2, 2, 3, 2]\n",
      "[2, 3, 2]\n",
      "\n",
      "\n",
      "Example 2 - [1,2,3,3,2,3,1,1,1,2,1,2,2]\n",
      "[1, 2, 3, 2, 3, 1, 2, 1, 2]\n"
     ]
    }
   ],
   "source": [
    "# Print working examples\n",
    "print(\"Example 1 - [2, 2, 2, 3, 2]\")\n",
    "print(remove_adjacent([2, 2, 2, 3, 2]))\n",
    "print(\"\\n\")\n",
    "print(\"Example 2 - [1,2,3,3,2,3,1,1,1,2,1,2,2]\")\n",
    "print(remove_adjacent([1,2,3,3,2,3,1,1,1,2,1,2,2]))"
   ]
  },
  {
   "cell_type": "markdown",
   "metadata": {},
   "source": [
    "3) given matrix of 7x7 full of ones, create a square with given side length (center same as original square(7x7)) replace ones with zeors at the edges for example,\n",
    "\n"
   ]
  },
  {
   "cell_type": "markdown",
   "metadata": {},
   "source": [
    "$$\n",
    "\\begin{align}\n",
    "A = \\begin{bmatrix}\n",
    "1 & 1 & 1 & 1 & 1 & 1 & 1\\\\\n",
    "1 & 1 & 1 & 1 & 1 & 1 & 1\\\\\n",
    "1 & 1 & 1 & 1 & 1 & 1 & 1\\\\\n",
    "1 & 1 & 1 & 1 & 1 & 1 & 1\\\\\n",
    "1 & 1 & 1 & 1 & 1 & 1 & 1\\\\\n",
    "1 & 1 & 1 & 1 & 1 & 1 & 1\\\\\n",
    "1 & 1 & 1 & 1 & 1 & 1 & 1\\\\\n",
    "\\end{bmatrix}\n",
    "\\end{align}\n",
    "$$\n",
    "After modification\n",
    "$$\n",
    "\\begin{align}\n",
    "A = \\begin{bmatrix}\n",
    "1 & 1 & 1 & 1 & 1 & 1 & 1\\\\\n",
    "1 & 1 & 1 & 1 & 1 & 1 & 1\\\\\n",
    "1 & 1 & 0 & 0 & 0 & 1 & 1\\\\\n",
    "1 & 1 & 0 & 1 & 0 & 1 & 1\\\\\n",
    "1 & 1 & 0 & 0 & 0 & 1 & 1\\\\\n",
    "1 & 1 & 1 & 1 & 1 & 1 & 1\\\\\n",
    "1 & 1 & 1 & 1 & 1 & 1 & 1\\\\\n",
    "\\end{bmatrix}\n",
    "\\end{align}\n",
    "$$"
   ]
  },
  {
   "cell_type": "code",
   "execution_count": 60,
   "metadata": {},
   "outputs": [],
   "source": [
    "import numpy as np\n",
    "# write programm to get the desired result\n",
    "def matrix_square(A,l):\n",
    "    n = A.shape[0]  #Size of the matrix\n",
    "    #the length of the smaller square should be lesser than the size of the matrix, both of which \n",
    "    #are odd\n",
    "    assert l<=n and n%2==1 and l%2==1\n",
    "    \n",
    "    #start and end of inner square\n",
    "    start = (n-l)//2\n",
    "    end = (n+l)//2\n",
    "    \n",
    "    for i in range(start,end):\n",
    "        for j in range(start,end):\n",
    "            #Making the elements in the edges of the smaller square 0\n",
    "            if (i==start or i==end-1) or (j==start or j==end-1):\n",
    "                A[i][j] = 0\n",
    "\n",
    "                \n",
    "    return A.astype(int)\n",
    "    \n",
    "    "
   ]
  },
  {
   "cell_type": "code",
   "execution_count": 61,
   "metadata": {},
   "outputs": [
    {
     "name": "stdout",
     "output_type": "stream",
     "text": [
      "Example 1 - side length 3\n",
      "[[1 1 1 1 1 1 1]\n",
      " [1 1 1 1 1 1 1]\n",
      " [1 1 0 0 0 1 1]\n",
      " [1 1 0 1 0 1 1]\n",
      " [1 1 0 0 0 1 1]\n",
      " [1 1 1 1 1 1 1]\n",
      " [1 1 1 1 1 1 1]]\n",
      "\n",
      "\n",
      "Example 2 - side length 5\n",
      "[[1 1 1 1 1 1 1]\n",
      " [1 0 0 0 0 0 1]\n",
      " [1 0 1 1 1 0 1]\n",
      " [1 0 1 1 1 0 1]\n",
      " [1 0 1 1 1 0 1]\n",
      " [1 0 0 0 0 0 1]\n",
      " [1 1 1 1 1 1 1]]\n",
      "\n",
      "\n",
      "Example 3 - side length 7\n",
      "[[0 0 0 0 0 0 0]\n",
      " [0 1 1 1 1 1 0]\n",
      " [0 1 1 1 1 1 0]\n",
      " [0 1 1 1 1 1 0]\n",
      " [0 1 1 1 1 1 0]\n",
      " [0 1 1 1 1 1 0]\n",
      " [0 0 0 0 0 0 0]]\n"
     ]
    }
   ],
   "source": [
    "#Print working examples\n",
    "\n",
    "#Example 1 - side length 3\n",
    "print(\"Example 1 - side length 3\")\n",
    "A = np.ones((7,7))  #7x7 matrix of ones\n",
    "l = 3  #Side length = 3\n",
    "print(matrix_square(A,l))\n",
    "print(\"\\n\")\n",
    "\n",
    "#Example 2 - side length 5\n",
    "print(\"Example 2 - side length 5\")\n",
    "A = np.ones((7,7))  #7x7 matrix of ones\n",
    "l = 5  #Side length = 5\n",
    "print(matrix_square(A,l))\n",
    "print(\"\\n\")\n",
    "\n",
    "#Example 3 - side length 7\n",
    "print(\"Example 3 - side length 7\")\n",
    "A = np.ones((7,7))  #7x7 matrix of ones\n",
    "l = 7  #Side length = 7\n",
    "print(matrix_square(A,l))"
   ]
  },
  {
   "cell_type": "markdown",
   "metadata": {},
   "source": [
    "4) Paragraph present in data.txt is encoded such that each alphabet in word is incremented to next ascii value. Decode the paragraph present in the data_encoded.txt (Hint: decrease the ascii value of each character in the word)\n"
   ]
  },
  {
   "cell_type": "code",
   "execution_count": 62,
   "metadata": {},
   "outputs": [],
   "source": [
    "def sentence_decode(str):\n",
    "\n",
    "    dec_words = \"\"   #initializing empty string\n",
    "    \n",
    "    for character in str:\n",
    "        #Copying spaces as it is\n",
    "        if character==\" \":\n",
    "            dec_words+=\" \"\n",
    "        #Decoding - identifying the previous ascii value\n",
    "        else:\n",
    "            dec_words += chr(ord(character)-1)\n",
    "    return dec_words"
   ]
  },
  {
   "cell_type": "code",
   "execution_count": 63,
   "metadata": {
    "tags": []
   },
   "outputs": [
    {
     "name": "stdout",
     "output_type": "stream",
     "text": [
      "ebub bobmztjt jt b qspdftt pg jotqfdujoh- dmfbotjoh- usbotgpsnjoh boe npefmjoh ebub xjui uif hpbm pg ejtdpwfsjoh vtfgvm jogpsnbujpo- jogpsnjoh dpodmvtjpot boe tvqqpsujoh efdjtjpo.nbljoh/ ebub bobmztjt ibt nvmujqmf gbdfut boe bqqspbdift- fodpnqbttjoh ejwfstf ufdiojrvft voefs b wbsjfuz pg obnft- boe jt vtfe jo ejggfsfou cvtjoftt- tdjfodf- boe tpdjbm tdjfodf epnbjot/ jo upebz(t cvtjoftt xpsme- ebub bobmztjt qmbzt b spmf jo nbljoh efdjtjpot npsf tdjfoujgjd boe ifmqjoh cvtjofttft pqfsbuf npsf fggfdujwfmz/\n",
      " \n",
      "data analysis is a process of inspecting, cleansing, transforming and modeling data with the goal of discovering useful information, informing conclusions and supporting decision-making. data analysis has multiple facets and approaches, encompassing diverse techniques under a variety of names, and is used in different business, science, and social science domains. in today's business world, data analysis plays a role in making decisions more scientific and helping businesses operate more effectively.\n"
     ]
    }
   ],
   "source": [
    "with open (\"data_encoded.txt\", \"r\") as myfile:\n",
    "    data=myfile.read()\n",
    "    print(data)\n",
    "    print(\" \")\n",
    "    print(sentence_decode(data))"
   ]
  },
  {
   "cell_type": "code",
   "execution_count": 48,
   "metadata": {},
   "outputs": [],
   "source": [
    "# Has to print the decoded paragraph."
   ]
  }
 ],
 "metadata": {
  "kernelspec": {
   "display_name": "Python 3",
   "language": "python",
   "name": "python3"
  },
  "language_info": {
   "codemirror_mode": {
    "name": "ipython",
    "version": 3
   },
   "file_extension": ".py",
   "mimetype": "text/x-python",
   "name": "python",
   "nbconvert_exporter": "python",
   "pygments_lexer": "ipython3",
   "version": "3.7.6"
  }
 },
 "nbformat": 4,
 "nbformat_minor": 2
}
