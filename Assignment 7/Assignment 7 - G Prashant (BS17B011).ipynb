{
 "cells": [
  {
   "cell_type": "markdown",
   "metadata": {
    "id": "MMWp3bQP-bhU"
   },
   "source": [
    "## Week 6: Dimensionality Reduction (PCA) and Model Validation"
   ]
  },
  {
   "cell_type": "markdown",
   "metadata": {
    "id": "GlFINCKfoOHJ"
   },
   "source": [
    "**(1a) Load the data file 'data1.csv' and visualize the data using a scatter plot.**"
   ]
  },
  {
   "cell_type": "code",
   "execution_count": 121,
   "metadata": {},
   "outputs": [],
   "source": [
    "import numpy as np\n",
    "import pandas as pd\n",
    "import seaborn as sns\n",
    "import matplotlib.pyplot as plt\n",
    "from itertools import combinations \n",
    "from sklearn.decomposition import PCA\n",
    "from PIL import Image\n",
    "from IPython.display import display\n",
    "from sklearn.linear_model import Ridge\n",
    "from sklearn.preprocessing import PolynomialFeatures\n",
    "from sklearn.model_selection import KFold,cross_validate\n",
    "import warnings\n",
    "warnings.filterwarnings(\"ignore\")"
   ]
  },
  {
   "cell_type": "code",
   "execution_count": 122,
   "metadata": {
    "id": "rzNIPVxcEgK_",
    "outputId": "523fc753-f9f0-460a-e947-9e6cdc630557"
   },
   "outputs": [
    {
     "data": {
      "text/plain": [
       "Text(0.5, 1.0, 'Visualization of data1.csv using scatterplot')"
      ]
     },
     "execution_count": 122,
     "metadata": {},
     "output_type": "execute_result"
    },
    {
     "data": {
      "image/png": "[encoded data removed]",
      "text/plain": [
       "<Figure size 576x360 with 1 Axes>"
      ]
     },
     "metadata": {
      "needs_background": "light"
     },
     "output_type": "display_data"
    }
   ],
   "source": [
    "# Importing \"data1.csv\"\n",
    "data1 = pd.read_csv(\"data1.csv\",header=None)\n",
    "\n",
    "#Scatterplot of data1\n",
    "plt.figure(figsize = (8,5))\n",
    "sns.scatterplot(data = data1,x = 0, y = 1)\n",
    "\n",
    "plt.xlabel(\"Feature 0\")\n",
    "plt.ylabel(\"Feature 1\")\n",
    "plt.title(\"Visualization of data1.csv using scatterplot\")"
   ]
  },
  {
   "cell_type": "code",
   "execution_count": 123,
   "metadata": {},
   "outputs": [
    {
     "data": {
      "text/html": [
       "<div>\n",
       "<style scoped>\n",
       "    .dataframe tbody tr th:only-of-type {\n",
       "        vertical-align: middle;\n",
       "    }\n",
       "\n",
       "    .dataframe tbody tr th {\n",
       "        vertical-align: top;\n",
       "    }\n",
       "\n",
       "    .dataframe thead th {\n",
       "        text-align: right;\n",
       "    }\n",
       "</style>\n",
       "<table border=\"1\" class=\"dataframe\">\n",
       "  <thead>\n",
       "    <tr style=\"text-align: right;\">\n",
       "      <th></th>\n",
       "      <th>0</th>\n",
       "      <th>1</th>\n",
       "    </tr>\n",
       "  </thead>\n",
       "  <tbody>\n",
       "    <tr>\n",
       "      <th>0</th>\n",
       "      <td>-3.086760</td>\n",
       "      <td>0.012814</td>\n",
       "    </tr>\n",
       "    <tr>\n",
       "      <th>1</th>\n",
       "      <td>2.368870</td>\n",
       "      <td>-0.056970</td>\n",
       "    </tr>\n",
       "    <tr>\n",
       "      <th>2</th>\n",
       "      <td>-0.741769</td>\n",
       "      <td>0.089533</td>\n",
       "    </tr>\n",
       "    <tr>\n",
       "      <th>3</th>\n",
       "      <td>-1.221298</td>\n",
       "      <td>0.145294</td>\n",
       "    </tr>\n",
       "    <tr>\n",
       "      <th>4</th>\n",
       "      <td>-2.080397</td>\n",
       "      <td>0.118519</td>\n",
       "    </tr>\n",
       "    <tr>\n",
       "      <th>5</th>\n",
       "      <td>-4.326320</td>\n",
       "      <td>-0.143142</td>\n",
       "    </tr>\n",
       "    <tr>\n",
       "      <th>6</th>\n",
       "      <td>4.123034</td>\n",
       "      <td>-0.194022</td>\n",
       "    </tr>\n",
       "    <tr>\n",
       "      <th>7</th>\n",
       "      <td>-2.652204</td>\n",
       "      <td>0.077234</td>\n",
       "    </tr>\n",
       "    <tr>\n",
       "      <th>8</th>\n",
       "      <td>0.499932</td>\n",
       "      <td>-0.079527</td>\n",
       "    </tr>\n",
       "    <tr>\n",
       "      <th>9</th>\n",
       "      <td>-0.838980</td>\n",
       "      <td>0.092056</td>\n",
       "    </tr>\n",
       "    <tr>\n",
       "      <th>10</th>\n",
       "      <td>-2.858644</td>\n",
       "      <td>0.191998</td>\n",
       "    </tr>\n",
       "    <tr>\n",
       "      <th>11</th>\n",
       "      <td>-2.267901</td>\n",
       "      <td>0.064638</td>\n",
       "    </tr>\n",
       "    <tr>\n",
       "      <th>12</th>\n",
       "      <td>4.917435</td>\n",
       "      <td>0.087173</td>\n",
       "    </tr>\n",
       "    <tr>\n",
       "      <th>13</th>\n",
       "      <td>1.283584</td>\n",
       "      <td>0.024955</td>\n",
       "    </tr>\n",
       "    <tr>\n",
       "      <th>14</th>\n",
       "      <td>0.710533</td>\n",
       "      <td>-0.021753</td>\n",
       "    </tr>\n",
       "    <tr>\n",
       "      <th>15</th>\n",
       "      <td>3.442049</td>\n",
       "      <td>-0.082846</td>\n",
       "    </tr>\n",
       "    <tr>\n",
       "      <th>16</th>\n",
       "      <td>1.558618</td>\n",
       "      <td>-0.102889</td>\n",
       "    </tr>\n",
       "    <tr>\n",
       "      <th>17</th>\n",
       "      <td>-1.207792</td>\n",
       "      <td>-0.030100</td>\n",
       "    </tr>\n",
       "    <tr>\n",
       "      <th>18</th>\n",
       "      <td>-0.434896</td>\n",
       "      <td>-0.001266</td>\n",
       "    </tr>\n",
       "    <tr>\n",
       "      <th>19</th>\n",
       "      <td>3.233355</td>\n",
       "      <td>-0.074865</td>\n",
       "    </tr>\n",
       "    <tr>\n",
       "      <th>20</th>\n",
       "      <td>-2.336237</td>\n",
       "      <td>0.044820</td>\n",
       "    </tr>\n",
       "    <tr>\n",
       "      <th>21</th>\n",
       "      <td>4.675850</td>\n",
       "      <td>-0.164127</td>\n",
       "    </tr>\n",
       "    <tr>\n",
       "      <th>22</th>\n",
       "      <td>3.196917</td>\n",
       "      <td>-0.051658</td>\n",
       "    </tr>\n",
       "    <tr>\n",
       "      <th>23</th>\n",
       "      <td>-1.884340</td>\n",
       "      <td>-0.070697</td>\n",
       "    </tr>\n",
       "    <tr>\n",
       "      <th>24</th>\n",
       "      <td>1.071762</td>\n",
       "      <td>-0.031575</td>\n",
       "    </tr>\n",
       "    <tr>\n",
       "      <th>25</th>\n",
       "      <td>-1.795013</td>\n",
       "      <td>0.057925</td>\n",
       "    </tr>\n",
       "    <tr>\n",
       "      <th>26</th>\n",
       "      <td>1.452185</td>\n",
       "      <td>-0.050577</td>\n",
       "    </tr>\n",
       "    <tr>\n",
       "      <th>27</th>\n",
       "      <td>-5.808152</td>\n",
       "      <td>0.075250</td>\n",
       "    </tr>\n",
       "    <tr>\n",
       "      <th>28</th>\n",
       "      <td>-3.093698</td>\n",
       "      <td>-0.079972</td>\n",
       "    </tr>\n",
       "    <tr>\n",
       "      <th>29</th>\n",
       "      <td>-3.743410</td>\n",
       "      <td>0.029286</td>\n",
       "    </tr>\n",
       "    <tr>\n",
       "      <th>30</th>\n",
       "      <td>4.738467</td>\n",
       "      <td>0.079196</td>\n",
       "    </tr>\n",
       "    <tr>\n",
       "      <th>31</th>\n",
       "      <td>0.580810</td>\n",
       "      <td>0.022448</td>\n",
       "    </tr>\n",
       "    <tr>\n",
       "      <th>32</th>\n",
       "      <td>-0.385729</td>\n",
       "      <td>0.034590</td>\n",
       "    </tr>\n",
       "    <tr>\n",
       "      <th>33</th>\n",
       "      <td>-3.283418</td>\n",
       "      <td>-0.004245</td>\n",
       "    </tr>\n",
       "    <tr>\n",
       "      <th>34</th>\n",
       "      <td>0.561406</td>\n",
       "      <td>-0.029134</td>\n",
       "    </tr>\n",
       "    <tr>\n",
       "      <th>35</th>\n",
       "      <td>0.689401</td>\n",
       "      <td>0.087442</td>\n",
       "    </tr>\n",
       "    <tr>\n",
       "      <th>36</th>\n",
       "      <td>3.386773</td>\n",
       "      <td>0.055603</td>\n",
       "    </tr>\n",
       "    <tr>\n",
       "      <th>37</th>\n",
       "      <td>-2.955412</td>\n",
       "      <td>0.006559</td>\n",
       "    </tr>\n",
       "    <tr>\n",
       "      <th>38</th>\n",
       "      <td>2.350010</td>\n",
       "      <td>0.095723</td>\n",
       "    </tr>\n",
       "    <tr>\n",
       "      <th>39</th>\n",
       "      <td>-0.812667</td>\n",
       "      <td>-0.079192</td>\n",
       "    </tr>\n",
       "    <tr>\n",
       "      <th>40</th>\n",
       "      <td>0.247852</td>\n",
       "      <td>0.052705</td>\n",
       "    </tr>\n",
       "    <tr>\n",
       "      <th>41</th>\n",
       "      <td>1.499923</td>\n",
       "      <td>0.036599</td>\n",
       "    </tr>\n",
       "    <tr>\n",
       "      <th>42</th>\n",
       "      <td>-1.841450</td>\n",
       "      <td>-0.141349</td>\n",
       "    </tr>\n",
       "    <tr>\n",
       "      <th>43</th>\n",
       "      <td>-3.124917</td>\n",
       "      <td>0.026414</td>\n",
       "    </tr>\n",
       "    <tr>\n",
       "      <th>44</th>\n",
       "      <td>-4.578724</td>\n",
       "      <td>0.121130</td>\n",
       "    </tr>\n",
       "    <tr>\n",
       "      <th>45</th>\n",
       "      <td>-0.202483</td>\n",
       "      <td>-0.038871</td>\n",
       "    </tr>\n",
       "    <tr>\n",
       "      <th>46</th>\n",
       "      <td>1.868510</td>\n",
       "      <td>0.073456</td>\n",
       "    </tr>\n",
       "    <tr>\n",
       "      <th>47</th>\n",
       "      <td>0.866679</td>\n",
       "      <td>0.148714</td>\n",
       "    </tr>\n",
       "    <tr>\n",
       "      <th>48</th>\n",
       "      <td>-4.508619</td>\n",
       "      <td>-0.232072</td>\n",
       "    </tr>\n",
       "    <tr>\n",
       "      <th>49</th>\n",
       "      <td>0.170737</td>\n",
       "      <td>-0.078142</td>\n",
       "    </tr>\n",
       "  </tbody>\n",
       "</table>\n",
       "</div>"
      ],
      "text/plain": [
       "           0         1\n",
       "0  -3.086760  0.012814\n",
       "1   2.368870 -0.056970\n",
       "2  -0.741769  0.089533\n",
       "3  -1.221298  0.145294\n",
       "4  -2.080397  0.118519\n",
       "5  -4.326320 -0.143142\n",
       "6   4.123034 -0.194022\n",
       "7  -2.652204  0.077234\n",
       "8   0.499932 -0.079527\n",
       "9  -0.838980  0.092056\n",
       "10 -2.858644  0.191998\n",
       "11 -2.267901  0.064638\n",
       "12  4.917435  0.087173\n",
       "13  1.283584  0.024955\n",
       "14  0.710533 -0.021753\n",
       "15  3.442049 -0.082846\n",
       "16  1.558618 -0.102889\n",
       "17 -1.207792 -0.030100\n",
       "18 -0.434896 -0.001266\n",
       "19  3.233355 -0.074865\n",
       "20 -2.336237  0.044820\n",
       "21  4.675850 -0.164127\n",
       "22  3.196917 -0.051658\n",
       "23 -1.884340 -0.070697\n",
       "24  1.071762 -0.031575\n",
       "25 -1.795013  0.057925\n",
       "26  1.452185 -0.050577\n",
       "27 -5.808152  0.075250\n",
       "28 -3.093698 -0.079972\n",
       "29 -3.743410  0.029286\n",
       "30  4.738467  0.079196\n",
       "31  0.580810  0.022448\n",
       "32 -0.385729  0.034590\n",
       "33 -3.283418 -0.004245\n",
       "34  0.561406 -0.029134\n",
       "35  0.689401  0.087442\n",
       "36  3.386773  0.055603\n",
       "37 -2.955412  0.006559\n",
       "38  2.350010  0.095723\n",
       "39 -0.812667 -0.079192\n",
       "40  0.247852  0.052705\n",
       "41  1.499923  0.036599\n",
       "42 -1.841450 -0.141349\n",
       "43 -3.124917  0.026414\n",
       "44 -4.578724  0.121130\n",
       "45 -0.202483 -0.038871\n",
       "46  1.868510  0.073456\n",
       "47  0.866679  0.148714\n",
       "48 -4.508619 -0.232072\n",
       "49  0.170737 -0.078142"
      ]
     },
     "execution_count": 123,
     "metadata": {},
     "output_type": "execute_result"
    }
   ],
   "source": [
    "data1"
   ]
  },
  {
   "cell_type": "markdown",
   "metadata": {
    "id": "zfxzmweXEgLP"
   },
   "source": [
    "**Let $\\bar{x} = (x_1, x_2, x_3, \\cdots, x_m)$ denote a data point with $m$ features. Suppose we approximate $\\bar{x}$ with fewer features, say two features $x_1$ and $x_2$, as $\\bar{y} = (x_1, x_2, 0, \\cdots, 0)$. Now, define the loss due to the representation as $\\lVert \\bar{x} - \\bar{y} \\rVert^2 = x_3^2 + \\cdots + x_m^2$. **\n",
    "\n",
    "**(1b) Find a single feature representation of the data (in data1.csv) such that the loss in representation is minimum.**"
   ]
  },
  {
   "cell_type": "code",
   "execution_count": 124,
   "metadata": {
    "id": "_FyYA036EgLS",
    "outputId": "fae8e861-f9e3-467d-c2e7-e5003f6f58e2"
   },
   "outputs": [],
   "source": [
    "def RepLoss(X,r):\n",
    "    (n,m) = X.shape\n",
    "    M = np.inf\n",
    "    X_new = X.copy()\n",
    "    comb = list(combinations(list(range(m)),r))\n",
    "    for features in comb:\n",
    "        for ft in features:\n",
    "            del X_new[ft]\n",
    "        loss = np.sum(np.sum(X_new**2))\n",
    "        if loss<M:\n",
    "            M = loss\n",
    "            best_rep = X[list(features)]\n",
    "            rep_feat = features\n",
    "        X_new = X.copy()\n",
    "    return best_rep,rep_feat,M"
   ]
  },
  {
   "cell_type": "code",
   "execution_count": 125,
   "metadata": {},
   "outputs": [
    {
     "name": "stdout",
     "output_type": "stream",
     "text": [
      "Feature 0 is the best single-feature representation of the data, with the minimum representation loss of 0.419127\n",
      "\n",
      "Best single-feature representation\n",
      "           0\n",
      "0  -3.086760\n",
      "1   2.368870\n",
      "2  -0.741769\n",
      "3  -1.221298\n",
      "4  -2.080397\n",
      "5  -4.326320\n",
      "6   4.123034\n",
      "7  -2.652204\n",
      "8   0.499932\n",
      "9  -0.838980\n",
      "10 -2.858644\n",
      "11 -2.267901\n",
      "12  4.917435\n",
      "13  1.283584\n",
      "14  0.710533\n",
      "15  3.442049\n",
      "16  1.558618\n",
      "17 -1.207792\n",
      "18 -0.434896\n",
      "19  3.233355\n",
      "20 -2.336237\n",
      "21  4.675850\n",
      "22  3.196917\n",
      "23 -1.884340\n",
      "24  1.071762\n",
      "25 -1.795013\n",
      "26  1.452185\n",
      "27 -5.808152\n",
      "28 -3.093698\n",
      "29 -3.743410\n",
      "30  4.738467\n",
      "31  0.580810\n",
      "32 -0.385729\n",
      "33 -3.283418\n",
      "34  0.561406\n",
      "35  0.689401\n",
      "36  3.386773\n",
      "37 -2.955412\n",
      "38  2.350010\n",
      "39 -0.812667\n",
      "40  0.247852\n",
      "41  1.499923\n",
      "42 -1.841450\n",
      "43 -3.124917\n",
      "44 -4.578724\n",
      "45 -0.202483\n",
      "46  1.868510\n",
      "47  0.866679\n",
      "48 -4.508619\n",
      "49  0.170737\n"
     ]
    }
   ],
   "source": [
    "best_rep,rep_feat,loss = RepLoss(data1,1)\n",
    "\n",
    "print(\"Feature %d\"%rep_feat[0] + \" is the best single-feature representation of the data, with the minimum representation loss of %f\"%loss)\n",
    "\n",
    "print(\"\\nBest single-feature representation\")\n",
    "print(best_rep)"
   ]
  },
  {
   "cell_type": "markdown",
   "metadata": {
    "id": "sA2O2zxcEgLf"
   },
   "source": [
    "**(1c) Visualize the approximated data and compare it with the original data using scatter plot**"
   ]
  },
  {
   "cell_type": "code",
   "execution_count": 128,
   "metadata": {
    "id": "XXwPR24uEgLi",
    "outputId": "f7b76012-481d-4827-db4e-e50eaf1eed40"
   },
   "outputs": [
    {
     "data": {
      "text/plain": [
       "<matplotlib.legend.Legend at 0x23d2945b9d0>"
      ]
     },
     "execution_count": 128,
     "metadata": {},
     "output_type": "execute_result"
    },
    {
     "data": {
      "image/png": "[encoded data removed]",
      "text/plain": [
       "<Figure size 576x360 with 1 Axes>"
      ]
     },
     "metadata": {
      "needs_background": "light"
     },
     "output_type": "display_data"
    }
   ],
   "source": [
    "#Scatterplot of data1\n",
    "plt.figure(figsize = (8,5))\n",
    "sns.scatterplot(data = data1,x = 0, y = 1)\n",
    "\n",
    "plt.title(\"Visualization of data1.csv and 1D representation using scatterplot\")\n",
    "\n",
    "sns.scatterplot(data = pd.DataFrame(np.hstack((np.array(best_rep),np.zeros((data1.shape[0],1))))),x=0,y=1)\n",
    "\n",
    "plt.xlabel(\"Feature 0\")\n",
    "plt.ylabel(\"Feature 1\")\n",
    "plt.legend([\"Original Data\",\"best 1D data representation\"])"
   ]
  },
  {
   "cell_type": "markdown",
   "metadata": {
    "id": "Fsb340vLEgLs"
   },
   "source": [
    "**(2a) Load the data file 'data2.csv'.**"
   ]
  },
  {
   "cell_type": "code",
   "execution_count": 97,
   "metadata": {
    "id": "xoYhAe2jEgLu"
   },
   "outputs": [],
   "source": [
    "# Importing \"data1.csv\"\n",
    "data2 = pd.read_csv(\"data2.csv\",header=None)"
   ]
  },
  {
   "cell_type": "markdown",
   "metadata": {
    "id": "zcWUsXTCEgL5"
   },
   "source": [
    "**(2c) Plot the minimum representation loss as a function of the number of features used for representation. Vary the number of features from 0 to 3**\n",
    "\n",
    "**(2c) Order the features in decreasing order of significance (with respect to the representation loss).**"
   ]
  },
  {
   "cell_type": "code",
   "execution_count": 98,
   "metadata": {},
   "outputs": [
    {
     "data": {
      "text/plain": [
       "Text(0.5, 1.0, 'Minimum Representational loss vs Number of features \\nchosen to be represented')"
      ]
     },
     "execution_count": 98,
     "metadata": {},
     "output_type": "execute_result"
    },
    {
     "data": {
      "image/png": "[encoded data removed]",
      "text/plain": [
       "<Figure size 576x360 with 1 Axes>"
      ]
     },
     "metadata": {
      "needs_background": "light"
     },
     "output_type": "display_data"
    }
   ],
   "source": [
    "loss_values = []\n",
    "selected_features = {}\n",
    "for r in [0,1,2,3]:\n",
    "    best_rep,rep_feat,loss = RepLoss(data2,r)\n",
    "    selected_features[r] = rep_feat\n",
    "    loss_values.append(loss)\n",
    "\n",
    "plt.figure(figsize = (8,5))\n",
    "plt.plot(list(range(4)),loss_values,\"-o\")\n",
    "plt.ylabel(\"Minimum Representational loss\")\n",
    "plt.xlabel(\"Number of features\")\n",
    "plt.title(\"Minimum Representational loss vs Number of features \\nchosen to be represented\")"
   ]
  },
  {
   "cell_type": "code",
   "execution_count": 119,
   "metadata": {},
   "outputs": [
    {
     "name": "stdout",
     "output_type": "stream",
     "text": [
      "Selected Features in 'k' feature representation (0<=k<=3)\n"
     ]
    },
    {
     "data": {
      "text/plain": [
       "{0: (), 1: (2,), 2: (1, 2), 3: (0, 1, 2)}"
      ]
     },
     "execution_count": 119,
     "metadata": {},
     "output_type": "execute_result"
    }
   ],
   "source": [
    "print(\"Selected Features in 'k' feature representation (0<=k<=3)\")\n",
    "selected_features"
   ]
  },
  {
   "cell_type": "markdown",
   "metadata": {
    "id": "-V8WSGP-EgL7",
    "outputId": "d2785a02-239b-4833-9e02-bdf2ffc9545f"
   },
   "source": [
    "**Hence, the order of importance of features in decreaseing order is [2,1,0,3]**.\n",
    "\n",
    "Explanation: When only one feature was considered, feature 2 gave the lowest representation loss, making it the most important feature. When 2 features were considered, features 1 and 2 were selected, making feature 1 the next important feature. Similarly, the next important feature is 0, followed by the least important feature 3."
   ]
  },
  {
   "cell_type": "markdown",
   "metadata": {
    "id": "l85T-HUvEgMK"
   },
   "source": [
    "**(2d) Compute the covariance matrix of the data. Give your observations between the values in covariance matrix and feature importance obtained in (2c).**"
   ]
  },
  {
   "cell_type": "code",
   "execution_count": 118,
   "metadata": {
    "id": "1MuILTIBEgMM",
    "outputId": "51fc3428-09d0-431a-e738-1d709fcb7835"
   },
   "outputs": [
    {
     "name": "stdout",
     "output_type": "stream",
     "text": [
      "Covariance Matrix of Data2 = \n"
     ]
    },
    {
     "data": {
      "text/html": [
       "<div>\n",
       "<style scoped>\n",
       "    .dataframe tbody tr th:only-of-type {\n",
       "        vertical-align: middle;\n",
       "    }\n",
       "\n",
       "    .dataframe tbody tr th {\n",
       "        vertical-align: top;\n",
       "    }\n",
       "\n",
       "    .dataframe thead th {\n",
       "        text-align: right;\n",
       "    }\n",
       "</style>\n",
       "<table border=\"1\" class=\"dataframe\">\n",
       "  <thead>\n",
       "    <tr style=\"text-align: right;\">\n",
       "      <th></th>\n",
       "      <th>0</th>\n",
       "      <th>1</th>\n",
       "      <th>2</th>\n",
       "      <th>3</th>\n",
       "    </tr>\n",
       "  </thead>\n",
       "  <tbody>\n",
       "    <tr>\n",
       "      <th>0</th>\n",
       "      <td>0.987196</td>\n",
       "      <td>-0.057179</td>\n",
       "      <td>-0.140991</td>\n",
       "      <td>0.003057</td>\n",
       "    </tr>\n",
       "    <tr>\n",
       "      <th>1</th>\n",
       "      <td>-0.057179</td>\n",
       "      <td>39.182190</td>\n",
       "      <td>0.116676</td>\n",
       "      <td>-0.007770</td>\n",
       "    </tr>\n",
       "    <tr>\n",
       "      <th>2</th>\n",
       "      <td>-0.140991</td>\n",
       "      <td>0.116676</td>\n",
       "      <td>1008.989796</td>\n",
       "      <td>0.055835</td>\n",
       "    </tr>\n",
       "    <tr>\n",
       "      <th>3</th>\n",
       "      <td>0.003057</td>\n",
       "      <td>-0.007770</td>\n",
       "      <td>0.055835</td>\n",
       "      <td>0.005093</td>\n",
       "    </tr>\n",
       "  </tbody>\n",
       "</table>\n",
       "</div>"
      ],
      "text/plain": [
       "          0          1            2         3\n",
       "0  0.987196  -0.057179    -0.140991  0.003057\n",
       "1 -0.057179  39.182190     0.116676 -0.007770\n",
       "2 -0.140991   0.116676  1008.989796  0.055835\n",
       "3  0.003057  -0.007770     0.055835  0.005093"
      ]
     },
     "execution_count": 118,
     "metadata": {},
     "output_type": "execute_result"
    }
   ],
   "source": [
    "#Computing Covariance matrix of data2\n",
    "print(\"Covariance Matrix of Data2 = \")\n",
    "cov_matrix_data2 = pd.DataFrame(np.cov(data2.T))\n",
    "data2.cov()"
   ]
  },
  {
   "cell_type": "markdown",
   "metadata": {
    "id": "AeAziDbFEgMd"
   },
   "source": [
    "**The diagonal values of the covariance matrix represent the variance of the individual features. It can be noticed that higher the importance of the feature, higher the variance of the feature.**"
   ]
  },
  {
   "cell_type": "markdown",
   "metadata": {
    "id": "KZsH4LsHEgMf"
   },
   "source": [
    "**(3a) Load the data file 'data3.csv' and visualize the data.**\n",
    "\n",
    "**(3b) Compute the covariance matrix $C$ of data**"
   ]
  },
  {
   "cell_type": "code",
   "execution_count": 129,
   "metadata": {
    "id": "n0q7MHTJEgMg",
    "scrolled": true
   },
   "outputs": [
    {
     "data": {
      "text/plain": [
       "Text(0.5, 1.0, 'Visualization of data3.csv using scatterplot')"
      ]
     },
     "execution_count": 129,
     "metadata": {},
     "output_type": "execute_result"
    },
    {
     "data": {
      "image/png": "[encoded data removed]",
      "text/plain": [
       "<Figure size 576x360 with 1 Axes>"
      ]
     },
     "metadata": {
      "needs_background": "light"
     },
     "output_type": "display_data"
    }
   ],
   "source": [
    "# Importing \"data3.csv\"\n",
    "data3 = pd.read_csv(\"data3.csv\",header=None)\n",
    "(m,n) = data3.shape\n",
    "\n",
    "#Scatterplot of data3\n",
    "plt.figure(figsize = (8,5))\n",
    "sns.scatterplot(data = data3,x = 0, y = 1)\n",
    "plt.xlabel(\"x1\")\n",
    "plt.ylabel(\"x2\")\n",
    "plt.title(\"Visualization of data3.csv using scatterplot\")"
   ]
  },
  {
   "cell_type": "code",
   "execution_count": 130,
   "metadata": {},
   "outputs": [
    {
     "name": "stdout",
     "output_type": "stream",
     "text": [
      "Covariance Matrix of Data3 = \n"
     ]
    },
    {
     "data": {
      "text/html": [
       "<div>\n",
       "<style scoped>\n",
       "    .dataframe tbody tr th:only-of-type {\n",
       "        vertical-align: middle;\n",
       "    }\n",
       "\n",
       "    .dataframe tbody tr th {\n",
       "        vertical-align: top;\n",
       "    }\n",
       "\n",
       "    .dataframe thead th {\n",
       "        text-align: right;\n",
       "    }\n",
       "</style>\n",
       "<table border=\"1\" class=\"dataframe\">\n",
       "  <thead>\n",
       "    <tr style=\"text-align: right;\">\n",
       "      <th></th>\n",
       "      <th>0</th>\n",
       "      <th>1</th>\n",
       "    </tr>\n",
       "  </thead>\n",
       "  <tbody>\n",
       "    <tr>\n",
       "      <th>0</th>\n",
       "      <td>3.594166</td>\n",
       "      <td>3.617564</td>\n",
       "    </tr>\n",
       "    <tr>\n",
       "      <th>1</th>\n",
       "      <td>3.617564</td>\n",
       "      <td>3.658059</td>\n",
       "    </tr>\n",
       "  </tbody>\n",
       "</table>\n",
       "</div>"
      ],
      "text/plain": [
       "          0         1\n",
       "0  3.594166  3.617564\n",
       "1  3.617564  3.658059"
      ]
     },
     "execution_count": 130,
     "metadata": {},
     "output_type": "execute_result"
    }
   ],
   "source": [
    "#Covariance Matrix of Data\n",
    "print(\"Covariance Matrix of Data3 = \")\n",
    "cov_matrix_data3 = data3.cov()\n",
    "cov_matrix_data3"
   ]
  },
  {
   "cell_type": "markdown",
   "metadata": {
    "id": "it0n7Yj0EgM7"
   },
   "source": [
    "**(3c) Apply PCA to transform data by retaining only 1 PC. Now, visualize the data points in transformed 1-dimensional space**"
   ]
  },
  {
   "cell_type": "code",
   "execution_count": 131,
   "metadata": {
    "id": "nE2CZ9DiEgM8"
   },
   "outputs": [
    {
     "name": "stdout",
     "output_type": "stream",
     "text": [
      "EigenValues\n",
      "[[0.00840733]\n",
      " [7.24381702]]\n",
      "\n",
      "Eigenvector Matrix\n",
      "[[-0.710222   -0.70397777]\n",
      " [ 0.70397777 -0.710222  ]]\n"
     ]
    }
   ],
   "source": [
    "# Eigenvalue decomosition of covariance matrix\n",
    "eig_vals, eig_vecs = np.linalg.eig(cov_matrix_data3)\n",
    "print(\"EigenValues\")\n",
    "print(eig_vals.reshape(-1,1))\n",
    "print()\n",
    "print(\"Eigenvector Matrix\")\n",
    "print(eig_vecs)"
   ]
  },
  {
   "cell_type": "markdown",
   "metadata": {},
   "source": [
    "**We consider the eigenvector corresponding to maximum eigenvalue (7.2438), i.e., the second column of the eigenvector matrix**"
   ]
  },
  {
   "cell_type": "code",
   "execution_count": 132,
   "metadata": {},
   "outputs": [
    {
     "data": {
      "text/plain": [
       "array([[ 3.08678638],\n",
       "       [-2.36909893],\n",
       "       [ 0.74215669],\n",
       "       [ 1.22192751],\n",
       "       [ 2.08089966],\n",
       "       [ 4.32564629],\n",
       "       [-4.12385028],\n",
       "       [ 2.6525189 ],\n",
       "       [-0.50027851],\n",
       "       [ 0.83937823],\n",
       "       [ 2.85946339],\n",
       "       [ 2.26816436],\n",
       "       [-4.91700252],\n",
       "       [-1.28346178],\n",
       "       [-0.71062164],\n",
       "       [-3.44238144],\n",
       "       [-1.55905734],\n",
       "       [ 1.20764729],\n",
       "       [ 0.43488617],\n",
       "       [-3.23365407],\n",
       "       [ 2.33641202],\n",
       "       [-4.67652913],\n",
       "       [-3.19711442],\n",
       "       [ 1.88400972],\n",
       "       [-1.07189102],\n",
       "       [ 1.79525097],\n",
       "       [-1.45239425],\n",
       "       [ 5.80842753],\n",
       "       [ 3.09331425],\n",
       "       [ 3.74350283],\n",
       "       [-4.73807159],\n",
       "       [-0.58070542],\n",
       "       [ 0.38587793],\n",
       "       [ 3.28336676],\n",
       "       [-0.56152929],\n",
       "       [-0.68900798],\n",
       "       [-3.38649476],\n",
       "       [ 2.95541181],\n",
       "       [-2.34956476],\n",
       "       [ 0.8123097 ],\n",
       "       [-0.24761695],\n",
       "       [-1.49974651],\n",
       "       [ 1.84080837],\n",
       "       [ 3.12500313],\n",
       "       [ 4.57921448],\n",
       "       [ 0.20230984],\n",
       "       [-1.86816742],\n",
       "       [-0.86601376],\n",
       "       [ 4.50755068],\n",
       "       [-0.17108005]])"
      ]
     },
     "execution_count": 132,
     "metadata": {},
     "output_type": "execute_result"
    }
   ],
   "source": [
    "#Computing A*V\n",
    "PC1 = eig_vecs[:,1].reshape(-1,1)\n",
    "Proj = np.dot(data3,PC1)\n",
    "Proj"
   ]
  },
  {
   "cell_type": "code",
   "execution_count": 144,
   "metadata": {},
   "outputs": [
    {
     "data": {
      "text/plain": [
       "<matplotlib.legend.Legend at 0x23d29989850>"
      ]
     },
     "execution_count": 144,
     "metadata": {},
     "output_type": "execute_result"
    },
    {
     "data": {
      "image/png": "[encoded data removed]",
      "text/plain": [
       "<Figure size 576x360 with 1 Axes>"
      ]
     },
     "metadata": {
      "needs_background": "light"
     },
     "output_type": "display_data"
    }
   ],
   "source": [
    "x_new = Proj*PC1[0]\n",
    "y_new = Proj*PC1[1]\n",
    "\n",
    "plt.figure(figsize = (8,5))\n",
    "sns.scatterplot(data = data3,x = 0, y = 1)\n",
    "plt.xlabel(\"Feature 0\")\n",
    "plt.ylabel(\"Feature 1\")\n",
    "plt.title(\"Visualization of data3.csv using scatterplot\")\n",
    "plt.plot(x_new,y_new,\"-r\",linewidth =0.5)\n",
    "plt.legend([\"PCA Projection\",\"Original Data\"])"
   ]
  },
  {
   "cell_type": "markdown",
   "metadata": {
    "id": "9Xl2eUCzEgNa"
   },
   "source": [
    "**(3d) Compute the representational loss (with respect to the original data).**\n",
    "\n",
    "**(3e) Compare the above representation loss with the loss your would incur if you attempted a one-dimensional representation without any transformation. Comment on it.**\n"
   ]
  },
  {
   "cell_type": "code",
   "execution_count": 108,
   "metadata": {
    "id": "GfM1JgryEgNc",
    "outputId": "258e7155-ca0e-4886-e09b-e2c418156d1f",
    "scrolled": true
   },
   "outputs": [
    {
     "name": "stdout",
     "output_type": "stream",
     "text": [
      "Representation Loss with 1 PC = 0.412025\n"
     ]
    }
   ],
   "source": [
    "#Computing representation loss after PCA with the original data\n",
    "data_PCA = np.hstack((x_new,y_new))\n",
    "rep_loss = np.sum(np.sum((data3-data_PCA)**2))\n",
    "print(\"Representation Loss with 1 PC = %f\"%rep_loss)"
   ]
  },
  {
   "cell_type": "code",
   "execution_count": 110,
   "metadata": {},
   "outputs": [
    {
     "name": "stdout",
     "output_type": "stream",
     "text": [
      "Feature 1 is the best single-feature representation of the data3, with the minimum representation loss of 177.667496\n"
     ]
    }
   ],
   "source": [
    "#Computing one-dimensional feature representation loss\n",
    "best_rep_data3,rep_feat_data3,loss_data3 = RepLoss(data3,1)\n",
    "print(\"Feature %d\"%rep_feat_data3[0] + \" is the best single-feature representation of the data3, with the minimum representation loss of %f\"%loss_data3)"
   ]
  },
  {
   "cell_type": "markdown",
   "metadata": {
    "id": "q5vO0Oa0EgNf"
   },
   "source": [
    "**As observed in the covariance matrix, the variance of both the features are equally high and moreover, the linear covariance of the two features is also high. In such a case the representation loss when only one of the features is chosen to be represented will be much higher than the loss obtained after PCA, as shown in the results above. The PCA loss is 0.412 and 1-feature loss is 177.667.**"
   ]
  },
  {
   "cell_type": "markdown",
   "metadata": {
    "id": "H__9kyFz_yip"
   },
   "source": [
    "### Application of PCA on real dataset"
   ]
  },
  {
   "cell_type": "markdown",
   "metadata": {
    "id": "u-CjbJhHEgNs"
   },
   "source": [
    "**(4a) Load the human face data set from sklearn (fetch_lfw_people).**"
   ]
  },
  {
   "cell_type": "code",
   "execution_count": 136,
   "metadata": {
    "id": "2KddvXwUEgNt"
   },
   "outputs": [],
   "source": [
    "from sklearn.datasets import fetch_lfw_people\n",
    "faces = fetch_lfw_people(min_faces_per_person=60)"
   ]
  },
  {
   "cell_type": "markdown",
   "metadata": {
    "id": "MSc0kegUEgN7"
   },
   "source": [
    "**(4b) Apply PCA on the faces data (sklearn can be used). Take the top 150 features from PCA. Reconstruct the images with the these 150 features and visualise them. Give your observations.**"
   ]
  },
  {
   "cell_type": "code",
   "execution_count": 143,
   "metadata": {
    "id": "2P9STHgGEgN9"
   },
   "outputs": [
    {
     "name": "stdout",
     "output_type": "stream",
     "text": [
      "Original Image 0\n"
     ]
    },
    {
     "data": {
      "image/png": "[encoded data removed]",
      "text/plain": [
       "<PIL.Image.Image image mode=L size=47x62 at 0x23D296C2160>"
      ]
     },
     "metadata": {},
     "output_type": "display_data"
    },
    {
     "name": "stdout",
     "output_type": "stream",
     "text": [
      "Reconstructed Image 0\n"
     ]
    },
    {
     "data": {
      "image/png": "[encoded data removed]",
      "text/plain": [
       "<PIL.Image.Image image mode=L size=47x62 at 0x23D2961BA90>"
      ]
     },
     "metadata": {},
     "output_type": "display_data"
    },
    {
     "name": "stdout",
     "output_type": "stream",
     "text": [
      "Data 0 Loss = 9339.867397\n",
      "\n",
      "Original Image 1\n"
     ]
    },
    {
     "data": {
      "image/png": "[encoded data removed]",
      "text/plain": [
       "<PIL.Image.Image image mode=L size=47x62 at 0x23D2961B280>"
      ]
     },
     "metadata": {},
     "output_type": "display_data"
    },
    {
     "name": "stdout",
     "output_type": "stream",
     "text": [
      "Reconstructed Image 1\n"
     ]
    },
    {
     "data": {
      "image/png": "[encoded data removed]",
      "text/plain": [
       "<PIL.Image.Image image mode=L size=47x62 at 0x23D2961B070>"
      ]
     },
     "metadata": {},
     "output_type": "display_data"
    },
    {
     "name": "stdout",
     "output_type": "stream",
     "text": [
      "Data 1 Loss = 9166.798732\n",
      "\n",
      "Original Image 2\n"
     ]
    },
    {
     "data": {
      "image/png": "[encoded data removed]",
      "text/plain": [
       "<PIL.Image.Image image mode=L size=47x62 at 0x23D296D9370>"
      ]
     },
     "metadata": {},
     "output_type": "display_data"
    },
    {
     "name": "stdout",
     "output_type": "stream",
     "text": [
      "Reconstructed Image 2\n"
     ]
    },
    {
     "data": {
      "image/png": "[encoded data removed]",
      "text/plain": [
       "<PIL.Image.Image image mode=L size=47x62 at 0x23D296D9490>"
      ]
     },
     "metadata": {},
     "output_type": "display_data"
    },
    {
     "name": "stdout",
     "output_type": "stream",
     "text": [
      "Data 2 Loss = 9149.096677\n",
      "\n",
      "Original Image 3\n"
     ]
    },
    {
     "data": {
      "image/png": "[encoded data removed]",
      "text/plain": [
       "<PIL.Image.Image image mode=L size=47x62 at 0x23D2961B070>"
      ]
     },
     "metadata": {},
     "output_type": "display_data"
    },
    {
     "name": "stdout",
     "output_type": "stream",
     "text": [
      "Reconstructed Image 3\n"
     ]
    },
    {
     "data": {
      "image/png": "[encoded data removed]",
      "text/plain": [
       "<PIL.Image.Image image mode=L size=47x62 at 0x23D296D9370>"
      ]
     },
     "metadata": {},
     "output_type": "display_data"
    },
    {
     "name": "stdout",
     "output_type": "stream",
     "text": [
      "Data 3 Loss = 9064.287065\n",
      "\n",
      "Original Image 4\n"
     ]
    },
    {
     "data": {
      "image/png": "[encoded data removed]",
      "text/plain": [
       "<PIL.Image.Image image mode=L size=47x62 at 0x23D272BAF40>"
      ]
     },
     "metadata": {},
     "output_type": "display_data"
    },
    {
     "name": "stdout",
     "output_type": "stream",
     "text": [
      "Reconstructed Image 4\n"
     ]
    },
    {
     "data": {
      "image/png": "[encoded data removed]",
      "text/plain": [
       "<PIL.Image.Image image mode=L size=47x62 at 0x23D296D95E0>"
      ]
     },
     "metadata": {},
     "output_type": "display_data"
    },
    {
     "name": "stdout",
     "output_type": "stream",
     "text": [
      "Data 4 Loss = 9338.963915\n",
      "\n",
      "Original Image 5\n"
     ]
    },
    {
     "data": {
      "image/png": "[encoded data removed]",
      "text/plain": [
       "<PIL.Image.Image image mode=L size=47x62 at 0x23D2961BA90>"
      ]
     },
     "metadata": {},
     "output_type": "display_data"
    },
    {
     "name": "stdout",
     "output_type": "stream",
     "text": [
      "Reconstructed Image 5\n"
     ]
    },
    {
     "data": {
      "image/png": "[encoded data removed]",
      "text/plain": [
       "<PIL.Image.Image image mode=L size=47x62 at 0x23D296D9490>"
      ]
     },
     "metadata": {},
     "output_type": "display_data"
    },
    {
     "name": "stdout",
     "output_type": "stream",
     "text": [
      "Data 5 Loss = 9131.892849\n",
      "\n",
      "Original Image 6\n"
     ]
    },
    {
     "data": {
      "image/png": "[encoded data removed]",
      "text/plain": [
       "<PIL.Image.Image image mode=L size=47x62 at 0x23D296D95E0>"
      ]
     },
     "metadata": {},
     "output_type": "display_data"
    },
    {
     "name": "stdout",
     "output_type": "stream",
     "text": [
      "Reconstructed Image 6\n"
     ]
    },
    {
     "data": {
      "image/png": "[encoded data removed]",
      "text/plain": [
       "<PIL.Image.Image image mode=L size=47x62 at 0x23D2961B070>"
      ]
     },
     "metadata": {},
     "output_type": "display_data"
    },
    {
     "name": "stdout",
     "output_type": "stream",
     "text": [
      "Data 6 Loss = 9302.515681\n",
      "\n",
      "Original Image 7\n"
     ]
    },
    {
     "data": {
      "image/png": "[encoded data removed]",
      "text/plain": [
       "<PIL.Image.Image image mode=L size=47x62 at 0x23D296D9370>"
      ]
     },
     "metadata": {},
     "output_type": "display_data"
    },
    {
     "name": "stdout",
     "output_type": "stream",
     "text": [
      "Reconstructed Image 7\n"
     ]
    },
    {
     "data": {
      "image/png": "[encoded data removed]",
      "text/plain": [
       "<PIL.Image.Image image mode=L size=47x62 at 0x23D296D95E0>"
      ]
     },
     "metadata": {},
     "output_type": "display_data"
    },
    {
     "name": "stdout",
     "output_type": "stream",
     "text": [
      "Data 7 Loss = 9192.785432\n",
      "\n",
      "Original Image 8\n"
     ]
    },
    {
     "data": {
      "image/png": "[encoded data removed]",
      "text/plain": [
       "<PIL.Image.Image image mode=L size=47x62 at 0x23D296C2280>"
      ]
     },
     "metadata": {},
     "output_type": "display_data"
    },
    {
     "name": "stdout",
     "output_type": "stream",
     "text": [
      "Reconstructed Image 8\n"
     ]
    },
    {
     "data": {
      "image/png": "[encoded data removed]",
      "text/plain": [
       "<PIL.Image.Image image mode=L size=47x62 at 0x23D2961BA90>"
      ]
     },
     "metadata": {},
     "output_type": "display_data"
    },
    {
     "name": "stdout",
     "output_type": "stream",
     "text": [
      "Data 8 Loss = 9018.762831\n",
      "\n",
      "Original Image 9\n"
     ]
    },
    {
     "data": {
      "image/png": "[encoded data removed]",
      "text/plain": [
       "<PIL.Image.Image image mode=L size=47x62 at 0x23D2961B070>"
      ]
     },
     "metadata": {},
     "output_type": "display_data"
    },
    {
     "name": "stdout",
     "output_type": "stream",
     "text": [
      "Reconstructed Image 9\n"
     ]
    },
    {
     "data": {
      "image/png": "[encoded data removed]",
      "text/plain": [
       "<PIL.Image.Image image mode=L size=47x62 at 0x23D296D9490>"
      ]
     },
     "metadata": {},
     "output_type": "display_data"
    },
    {
     "name": "stdout",
     "output_type": "stream",
     "text": [
      "Data 9 Loss = 9217.250024\n",
      "\n"
     ]
    }
   ],
   "source": [
    "#Storing the data matrix\n",
    "image_data = faces['data']\n",
    "\n",
    "#Performing PCA Transformation - 150 components\n",
    "pca = PCA(n_components=150)\n",
    "data_reduced = pca.fit_transform(image_data)\n",
    "#Reconstructing Matrix using 150 features\n",
    "recons = pca.inverse_transform(data_reduced)\n",
    "\n",
    "#Displaying the first 10 Original and Reconstructed Image\n",
    "for i in range(10):\n",
    "    print(\"Original Image %d\"%i)\n",
    "    im = Image.fromarray(faces['images'][i,:,:])\n",
    "    im = im.convert(\"L\")\n",
    "    display(im)\n",
    "    print(\"Reconstructed Image %d\"%i)\n",
    "    im_rec = Image.fromarray(recons[i,:].reshape(62,47))\n",
    "    im_rec = im_rec.convert(\"L\")\n",
    "    display(im_rec)\n",
    "    los = np.linalg.norm((np.array(im)-np.array(im_rec)),\"fro\")\n",
    "    print(\"Data %d\"%i+\" Loss = %f\"%los)\n",
    "    print()"
   ]
  },
  {
   "cell_type": "markdown",
   "metadata": {},
   "source": [
    "**It can be noticed that the reconstructed image obtained using PCA is a compressed version of the original image, and not all characterisitcs of the original image are retained in the compressed image. However, the compressed image serves as a reasonable approximation of the original image, making recognition equally easy.**"
   ]
  },
  {
   "cell_type": "markdown",
   "metadata": {},
   "source": [
    "### 5) Cross validation to select parameters for Ridge Regression \n",
    "\n",
    "$$\\hat{\\theta} = argmin_{\\theta}((y - X\\theta)^\\top(y - X\\theta) + \\lambda \\theta^\\top \\theta)$$\n"
   ]
  },
  {
   "cell_type": "markdown",
   "metadata": {},
   "source": [
    "Perform ridge rigression using gradient descent on the data 4 provided. (You can use sklearn)\n",
    "\n",
    "Try to fit the data with polynomial of degree 3 and \n",
    "\n",
    "- For $\\lambda$ choose from = [10,100,1000]\n",
    "- choose learning rate (here it is $\\alpha$)= [ 0.01,0.001,0.0001]\n",
    "- max_iters = 1000\n",
    "\n",
    "Choose the best combination of $\\lambda$ and $\\alpha$ using 5-fold cross validation on the dataset provided and report the same.\n"
   ]
  },
  {
   "cell_type": "code",
   "execution_count": 157,
   "metadata": {},
   "outputs": [],
   "source": [
    "# Importing \"data4.csv\"\n",
    "X_train = pd.DataFrame(np.genfromtxt(\"data_X.txt\"))\n",
    "#removing the last column as it contains labels\n",
    "del X_train[13]\n",
    "y_train = pd.read_csv(\"data_y.txt\",sep = \" \",header = None).astype(float)\n",
    "\n",
    "#Standardizing the data as the columns have different scales\n",
    "X_train = (X_train - np.mean(X_train))/np.std(X_train)"
   ]
  },
  {
   "cell_type": "code",
   "execution_count": 158,
   "metadata": {},
   "outputs": [
    {
     "name": "stdout",
     "output_type": "stream",
     "text": [
      "Model with Regularization Parameter lambda = 10\n",
      "Average Validation Mean Squared Error: 30.515428\n",
      "\n",
      "Model with Regularization Parameter lambda = 100\n",
      "Average Validation Mean Squared Error: 11.892782\n",
      "\n",
      "Model with Regularization Parameter lambda = 1000\n",
      "Average Validation Mean Squared Error: 16.951977\n",
      "\n"
     ]
    }
   ],
   "source": [
    "#polynomial transformation\n",
    "poly = PolynomialFeatures(degree = 3,include_bias = False)\n",
    "X_train_poly = poly.fit_transform(X_train)\n",
    "#Regularization parameter values to be tried\n",
    "lambda_vals = [10,100,1000]\n",
    "\n",
    "#k-fold splitting\n",
    "kf = KFold(n_splits=5,shuffle=True,random_state=0)\n",
    "kf.get_n_splits(X_train)\n",
    "\n",
    "for lam in lambda_vals:\n",
    "    avg_mse = 0\n",
    "    rid = Ridge(alpha=lam,max_iter=1000)\n",
    "    for train_index, val_index in kf.split(X_train):\n",
    "        #rid = Ridge(alpha=lam,max_iter=1000)\n",
    "        rid.fit(X_train_poly[train_index],np.array(y_train)[train_index])\n",
    "        mse_val = np.sum((rid.predict(X_train_poly[val_index]) - np.array(y_train)[val_index])**2)/len(val_index)\n",
    "        avg_mse += mse_val/5\n",
    "    \n",
    "    print(\"Model with Regularization Parameter lambda = %d\"%lam)\n",
    "    print(\"Average Validation Mean Squared Error: %f\"%avg_mse,end=\"\\n\\n\")\n",
    "    "
   ]
  },
  {
   "cell_type": "markdown",
   "metadata": {},
   "source": [
    "**As the model with regularization parameter $\\lambda = 100$ gives the highest validation MSE, we can consider that as the best model. Since we are using polynomial tranformation on features of the data matrix, it results in a more complex model. In order to prevent overfitting, a higher value of $\\lambda$ is preferred, i.e., the parameter weights should be penalized to a reasonably greater extent. However, making $\\lambda$ too high, like 1000, underfits both the training and validation set, resulting in higher MSE.**"
   ]
  },
  {
   "cell_type": "code",
   "execution_count": null,
   "metadata": {},
   "outputs": [],
   "source": []
  }
 ],
 "metadata": {
  "colab": {
   "collapsed_sections": [],
   "name": "Dimensionality Reduction",
   "provenance": []
  },
  "kernelspec": {
   "display_name": "Python 3",
   "language": "python",
   "name": "python3"
  },
  "language_info": {
   "codemirror_mode": {
    "name": "ipython",
    "version": 3
   },
   "file_extension": ".py",
   "mimetype": "text/x-python",
   "name": "python",
   "nbconvert_exporter": "python",
   "pygments_lexer": "ipython3",
   "version": "3.8.3"
  },
  "toc": {
   "nav_menu": {},
   "number_sections": true,
   "sideBar": true,
   "skip_h1_title": false,
   "title_cell": "Table of Contents",
   "title_sidebar": "Contents",
   "toc_cell": false,
   "toc_position": {},
   "toc_section_display": true,
   "toc_window_display": false
  }
 },
 "nbformat": 4,
 "nbformat_minor": 1
}
