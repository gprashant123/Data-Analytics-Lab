{
 "cells": [
  {
   "cell_type": "code",
   "execution_count": 239,
   "metadata": {},
   "outputs": [],
   "source": [
    "# Import required packages\n",
    "import numpy as np               # for mathematical operations, for arrays\n",
    "import pandas as pd              # Used for different data manipulation tasks\n",
    "import matplotlib.pyplot as plt  # Used for Plotting \n",
    "import random                    # For random number generator\n",
    "import warnings\n",
    "warnings.filterwarnings('ignore')# To avoid warnings note while running the notebook"
   ]
  },
  {
   "cell_type": "markdown",
   "metadata": {},
   "source": [
    "# Section 1 : Implementing Gradient Descent\n",
    "\n",
    "Gradient Descent is an first order optimization algorithm to find the local minimum differentiable function (usually a loss function or an objective function). We start with a random point on the function and move in the negative direction of the gradient of the function to reach the find minimum.\n",
    "\n",
    "Let $F(x)$ be a differentiable function parameterised by $x$ and $x^*$ be the parameter value which minimises $F(x)$. The initial value is $x_0=a_0$. To determine $x^*$ using gradient descent, at each of the $i^{th}$ the parameter updation rule is:\n",
    "\n",
    "\\begin{align*}\n",
    "x_i = x_{i-1} - \\eta \\nabla F(a_{i-1}), \\hspace{1cm} i\\geq 1\n",
    "\\end{align*}  \n",
    "where $x_i$ is updated value of the parameter in the $i^{th}$ iteration. \n",
    "\n",
    "\\begin{align*}\n",
    "\\eta \\nabla F(a_{i-1}) = \\eta \\frac{dF}{dx}\\bigr \\rvert_{x=a_{i-1}}\n",
    "\\end{align*} \n",
    "\n",
    "**Stopping Criteria**: Following are three ways which are used as stopping criteria in gradient descent algorithm:\n",
    "1. Limiting number of iterations\n",
    "2. Threshold for change in the parameter (i.e difference between the updated parameter and parameter in the previous iteration) --> Change in parameter > Threshold\n",
    "3. Threshold for change in gradient step\n",
    "                  \n",
    "**Question** : Find $x^*$ which minimises $F(x) = (x+5)^2$ using gradient descent \n",
    "\n",
    "**Note : Few variables are set to a given value, read the instructions in the pseudo code**\n",
    "\n",
    "**Pseudo Code**:\n",
    "1. Initialise the parameter ('x') with some random number,set learning rate = 0.01(section 4 has details on \"how to select appropriate learning rate for a given problem\"), set threshold = 0.000001,\n",
    "2. Define a function for calculating differential of F (Hint : Use lambda method for single line of code)\n",
    "3. Compute the updated value of the parameter using the formula: $x_i = x_i-1 - \\eta \\nabla F(a_{i-1})$ \n",
    "4. Iterate over step 3 until the stopping criteria is satisfied (You have to choose stopping criteria appropriately)"
   ]
  },
  {
   "cell_type": "markdown",
   "metadata": {},
   "source": [
    "## 1.1 Implementing Code\n",
    "Implement the above pseudo code and print the optimum value of $x$ and $F(x)$. Also print the number of iterations required to reach that optimum.\n",
    "\n",
    "**Note : Carefully choose your stopping criteria for reaching optimum**"
   ]
  },
  {
   "cell_type": "code",
   "execution_count": 240,
   "metadata": {},
   "outputs": [
    {
     "name": "stdout",
     "output_type": "stream",
     "text": [
      "Optimum x Value: -4.999500017454717\n",
      "F(x) = F(-4.999500)  = 0.000000\n"
     ]
    }
   ],
   "source": [
    "# Write your code here\n",
    "#Generating random starting point\n",
    "x = np.random.random()\n",
    "\n",
    "#Initializing learning rate\n",
    "eta = 10e-6\n",
    "\n",
    "#F(x) = (x+5)^2; F'(x) = 2x+10 => Lambda function to calculate derivative\n",
    "diff = lambda x: 2*x+10\n",
    "\n",
    "#Tolerance level: 10^-9\n",
    "tol = 10e-9\n",
    "\n",
    "xk = np.inf\n",
    "\n",
    "#Maximum Number of iterations: 10^6\n",
    "max_iter = 10e6\n",
    "\n",
    "ite = 0\n",
    "\n",
    "#while change in x is greater than tolerance and number of iterations <= maximum limit\n",
    "while abs(xk-x) > tol and ite <= max_iter:\n",
    "    if xk==np.inf:\n",
    "        xk = x\n",
    "    x = xk\n",
    "    #Updating x based on gradient descent\n",
    "    xk = x - eta*diff(x)\n",
    "    ite+=1\n",
    "\n",
    "print(\"Optimum x Value: \"+str(xk))\n",
    "print(\"F(x) = F(%f) \"%xk+\" = %f\"%(xk+5)**2)"
   ]
  },
  {
   "attachments": {
    "Normal%20Equation.png": {
     "image/png": "[encoded data removed]"
    }
   },
   "cell_type": "markdown",
   "metadata": {},
   "source": [
    "# Section 2 : Linear Regression - Finding the Regression parameters using Normal Equation (Analytical Approach)\n",
    "**Dataset** : dataset1.csv (given)\n",
    "\n",
    "Given a dataset (here dataset1.csv), find the coefficients (parameters) using the Normal Equation and predict the outputs for the same dataset (dataset1.csv). Given input features in matrix $X$ and observed output or target vector $y$, the regression parameters are given by the equation:\n",
    "![Normal%20Equation.png](attachment:Normal%20Equation.png)\n",
    "\n",
    "\n",
    "**Pseudo Code:**\n",
    "1. Append ones to X, let say that as \"X_appended\" (This is to be done when there is intercept, if you know before hand that intercept is zero, then this step can be ignored)\n",
    "2. Find the pseudo Inverse of the X_appended\n",
    "3. Find the dot product of transpose of X_appended and target vector (y),\n",
    "4. Find \"theta\" (parameters) using \"Normal Equation\" given above (i.e Matrix multiplication of outputs of Step 2 and Step 3)\n",
    "5. Predict ouputs for X_new by appending it with ones and then using the formula $y=X_{new}\\theta$\n",
    "\n",
    "**Note : When you perform matrix multiplications or dot products on vectors or matrices, always keep track of the matrix or vectors shapes. This helps you in avoiding implementation errors.**\n",
    "\n",
    "<div class=\"alert alert-block alert-warning\">\n",
    "**Implementation Note:** Step 1 is crucial. We store each example as a row in the the $X$ matrix in Python `numpy`. To take into account the intercept term ($\\theta_0$), we add an additional first column to $X$ and set it to all ones. This allows us to treat $\\theta_0$ as simply another 'feature'.\n",
    "</div>"
   ]
  },
  {
   "cell_type": "code",
   "execution_count": 241,
   "metadata": {},
   "outputs": [
    {
     "name": "stdout",
     "output_type": "stream",
     "text": [
      "theta = [[17.78924731]\n",
      " [ 4.90189099]]\n",
      "ϴ₀ = 17.789247\n",
      "ϴ₁ = 4.901891\n"
     ]
    }
   ],
   "source": [
    "# Import X, y from \"dataset1.csv\"\n",
    "# X and y are numpy array, Hint : store the data in the pandas dataframe and then convert it to numpy array\n",
    "#Reading Dataset1\n",
    "dataset1 = pd.read_csv(\"dataset1.csv\")\n",
    "X = np.array(dataset1[\"X\"]).reshape(-1,1)\n",
    "y = np.array(dataset1[\"y\"]).reshape(-1,1)\n",
    "m = X.shape[0]\n",
    "\n",
    "#Appending columns of ones for bias\n",
    "X_appended = np.append(np.ones((m,1)),X,axis=1)\n",
    "\n",
    "#Calculating Pseudoinverse of X\n",
    "pseudo_inv = np.dot(np.linalg.inv(np.dot(X_appended.T,X_appended)),X_appended.T)\n",
    "#product of X transpose and y\n",
    "X_T_y = np.dot(X_appended.T,y)\n",
    "#Calculating theta using the normal equation\n",
    "theta = np.dot(pseudo_inv,y)\n",
    "\n",
    "print(\"theta = \"+str(theta))\n",
    "print(u'\\u03F4\\u2080 = %f'%theta[0])\n",
    "print(u'\\u03F4\\u2081 = %f'%theta[1])"
   ]
  },
  {
   "cell_type": "markdown",
   "metadata": {},
   "source": [
    "### 2.1 Function to predict the outputs\n",
    "Implement the predict function below. Predict the outputs for the given data (dataset1.csv), plot the predicted outputs Vs input features and scatter plot for dataset1.csv (X,y)"
   ]
  },
  {
   "cell_type": "code",
   "execution_count": 242,
   "metadata": {},
   "outputs": [
    {
     "data": {
      "text/plain": [
       "Text(0.5, 1.0, 'dataset1.csv')"
      ]
     },
     "execution_count": 242,
     "metadata": {},
     "output_type": "execute_result"
    },
    {
     "data": {
      "image/png": "[encoded data removed]",
      "text/plain": [
       "<Figure size 576x432 with 1 Axes>"
      ]
     },
     "metadata": {
      "needs_background": "light"
     },
     "output_type": "display_data"
    }
   ],
   "source": [
    "def predict(X, theta):\n",
    "    \"\"\"\n",
    "    Predictions of X for a given theta.\n",
    "    \n",
    "    Parameters\n",
    "    ----------\n",
    "    X : array with size of (m x n)\n",
    "    \n",
    "    theta : array with size of (n+1, 1).\n",
    "    \n",
    "    Returns\n",
    "    -------\n",
    "    predictions : array of size (m x 1)\n",
    "    \n",
    "    \"\"\"\n",
    "    m = X.shape[0]\n",
    "    prediction = np.dot(np.append(np.ones((m,1)),X,axis=1),theta)\n",
    "\n",
    "    return prediction\n",
    "\n",
    "# Your predictions for the dataset1.csv\n",
    "y_pred = predict(X,theta)\n",
    "\n",
    "# plot a line Predictions Vs features and scatter plot for the training data X,y\n",
    "plt.figure(figsize=(8,6))\n",
    "plt.plot(np.linspace(0,max(X),2),predict(np.linspace(0,max(X),2),theta))\n",
    "plt.plot(X,y,\"o\")\n",
    "plt.xlabel(\"x\")\n",
    "plt.ylabel(\"y\")\n",
    "plt.legend([\"linear model\",\"data\"])\n",
    "plt.title(\"dataset1.csv\")"
   ]
  },
  {
   "cell_type": "markdown",
   "metadata": {},
   "source": [
    "# Section 3 : Linear Regression - Find the Regression parameters using Gradient Descent\n",
    "This section is about applying gradient descent algorithm to find theta at which a cost function (Mean Squared Error) is minimum. This can be done using the gradient descent algorithm discussed in Section 1, where $x$ is replaced by the regression parameters. \n",
    "\n",
    "Refer to pseudo code in Section 1 for gradient descent algorithm. In simple terms, we initialise the regression parameters with some random number and we compute the gradient step to update the regression parameters."
   ]
  },
  {
   "cell_type": "markdown",
   "metadata": {},
   "source": [
    "### 3.1. Import and visualise the dataset"
   ]
  },
  {
   "cell_type": "code",
   "execution_count": 243,
   "metadata": {},
   "outputs": [
    {
     "data": {
      "text/plain": [
       "Text(0.5, 1.0, 'dataset1.csv')"
      ]
     },
     "execution_count": 243,
     "metadata": {},
     "output_type": "execute_result"
    },
    {
     "data": {
      "image/png": "[encoded data removed]",
      "text/plain": [
       "<Figure size 576x432 with 1 Axes>"
      ]
     },
     "metadata": {
      "needs_background": "light"
     },
     "output_type": "display_data"
    }
   ],
   "source": [
    "# Import the data from dataset1.csv - Same as Section 2\n",
    "# Import X and y as numpy array, Hint : store the data in the pandas dataframe and then convert it to numpy array\n",
    "dataset1 = pd.read_csv(\"dataset1.csv\")\n",
    "X = np.array(dataset1[\"X\"]).reshape(-1,1)\n",
    "y = np.array(dataset1[\"y\"]).reshape(-1,1)\n",
    "m = len(X)\n",
    "X_appended = np.append(np.ones((m,1)),X,axis=1)\n",
    "\n",
    "# Scatter Plot the data X and y for visualisation\n",
    "plt.figure(figsize=(8,6))\n",
    "plt.plot(X,y,\"o\")\n",
    "plt.xlabel(\"x\")\n",
    "plt.ylabel(\"y\")\n",
    "plt.legend([\"data\"])\n",
    "plt.title(\"dataset1.csv\")"
   ]
  },
  {
   "cell_type": "markdown",
   "metadata": {},
   "source": [
    "### 3.2. Compute Cost Function - Mean Squared Error (MSE) \n",
    "The cost function used is Mean Squared Error (MSE) represented as $J(\\theta)$ and is given by:\n",
    "\n",
    "$$ J(\\theta) = \\frac{1}{2m} \\sum_{i=1}^m \\left( h_{\\theta}(x^{(i)}) - y^{(i)}\\right)^2$$\n",
    "\n",
    "where the hypothesis $h_\\theta(x)$ is a linear model given by: \n",
    "$$ h_\\theta(x) = \\theta^Tx = \\theta_0 + \\theta_1 x_1$$\n",
    "\n",
    "As you perform gradient descent to learn minimize the cost function $J(\\theta)$, it is helpful to monitor the convergence by computing the cost. This way you can know whether you choose high learning rate or low learning rate. Suppose if your learning rate is too high, you can see your cost will go up and down, but will not converge. If you choose good learning rate, then you can see your cost going down smoothly and converges.\n",
    "\n",
    "In this you will implement a function to calculate $J(\\theta)$ so you can check the convergence of your gradient descent implementation. "
   ]
  },
  {
   "cell_type": "code",
   "execution_count": 244,
   "metadata": {},
   "outputs": [],
   "source": [
    "def computeCost(X, y, theta):\n",
    "    \"\"\"\n",
    "    Compute cost for linear regression. Computes the cost of using theta as the\n",
    "    parameter for linear regression to fit the data points in X and y.\n",
    "    \n",
    "    Parameters\n",
    "    ----------\n",
    "    X : array with the shape of (m x n+1)\n",
    "        where m is the number of examples,n is the number of features\n",
    "        n+1 == n features + 1 for bias term(intercept as a feature)\n",
    "    \n",
    "    y : array with the shape of (m,1)\n",
    "    \n",
    "    theta : array with the shape of (n+1,1)\n",
    "    \n",
    "    Returns\n",
    "    -------\n",
    "    J : float -> The value of the regression cost function.\n",
    "    \n",
    "    \"\"\"\n",
    "    # Write your code here\n",
    "    m = X.shape[0]\n",
    "    J = np.sum((np.dot(X,theta)-y)**2)/(2*m)\n",
    "    \n",
    "    return J"
   ]
  },
  {
   "cell_type": "markdown",
   "metadata": {},
   "source": [
    "## 3.3. Implementation of Gradient Descent \n",
    "\n",
    "Recall that the parameters of your model are the $\\theta_j$ values. These are\n",
    "the values you will adjust to minimize cost $J(\\theta)$. One way to do this is to\n",
    "use the batch gradient descent algorithm. In batch gradient descent, each\n",
    "iteration performs the update\n",
    "\n",
    "$$ \\theta_j = \\theta_j - \\alpha \\frac{1}{m} \\sum_{i=1}^m \\left( h_\\theta(x^{(i)}) - y^{(i)}\\right)x_j^{(i)} \\qquad \\text{simultaneously update } \\theta_j \\text{ for all } j$$\n",
    "\n",
    "With each step of gradient descent, your parameters $\\theta_j$ come closer to the optimal values that will achieve the lowest cost J($\\theta$).\n",
    "\n",
    "\n",
    "**Important implementation notes**\n",
    "\n",
    "The function `gradientDescent` calls `computeCost` on every iteration and saves the cost to a python list. If you have implemented gradient descent and `computeCost` correctly, your value of $J(\\theta)$ should never increase, and should converge to a steady value by the end of the algorithm."
   ]
  },
  {
   "cell_type": "code",
   "execution_count": 245,
   "metadata": {},
   "outputs": [],
   "source": [
    "def gradientDescent(X_appended, y, theta, alpha, precision = 0.001):\n",
    "    \"\"\"\n",
    "    Performs gradient descent to learn `theta`. Updates theta by taking `num_iters`\n",
    "    gradient steps with learning rate `alpha`.\n",
    "    \n",
    "    Parameters\n",
    "    ----------\n",
    "    X_appended : array with shape of (m x n+1). Note : n+1 = n features + 1 intercept\n",
    "    \n",
    "    y : array with shape of (m, 1)\n",
    "    \n",
    "    theta : array with shape of (n+1,1)\n",
    "    \n",
    "    alpha : float value, called as \"learning rate\"\n",
    "    \n",
    "    precision : float, (One of the Stopping criteria). This is compared with the change in the cost from previous iter.\n",
    "    \n",
    "    Returns\n",
    "    -------\n",
    "    theta : array wih shape of (n+1,1),The learned linear regression parameters\n",
    "    \n",
    "    J_history : A python list for the values of the cost function after every iteration. This is to check for convergence\n",
    "    \n",
    "    Count : Integer, Number of iterations taken to converge\n",
    "    \n",
    "    Cost : Float, Mean squared error at the end of the iteration\n",
    "    \n",
    "    \n",
    "    Hint: \n",
    "    ------------\n",
    "    1. Peform a single gradient step on the parameter vector theta.\n",
    "    2. Loop over the number of iterations to update step by step.\n",
    "    \"\"\"\n",
    "    # Write your code here\n",
    "    J_history = [np.inf]\n",
    "    count = 0\n",
    "    cost = 0\n",
    "    m = X_appended.shape[0]\n",
    "    \n",
    "    #Derivative of cost function\n",
    "    diff_cost = lambda y_cap,y,x,m: ((1/m)*np.dot((y_cap - y).T,x)).T\n",
    "    \n",
    "    while abs(J_history[-1]-cost)>precision:\n",
    "        if J_history[0]==np.inf:\n",
    "            del J_history[0]\n",
    "        J_history.append(cost)\n",
    "        y_pred = np.dot(X_appended,theta)\n",
    "        #Calculating Cost function\n",
    "        cost = computeCost(X_appended, y, theta)\n",
    "        #Updating Parameters\n",
    "        theta -= alpha*diff_cost(y_pred,y,X_appended,m)\n",
    "        #Number of iterations\n",
    "        count += 1\n",
    "    \n",
    "    del J_history[0]\n",
    "    \n",
    "    return theta, J_history, cost, count"
   ]
  },
  {
   "cell_type": "markdown",
   "metadata": {},
   "source": [
    "### Run gradientDescent function to train the model here\n",
    "**Note : Use the learning rate(alpha) and precision given below. Initialise theta with zeros is suggested here (but you can initialise with different numbers)**\n",
    "\n",
    "Print the final theta (learnt parameters), number of iterations to converge, value of cost function at the convergence."
   ]
  },
  {
   "cell_type": "code",
   "execution_count": 246,
   "metadata": {},
   "outputs": [],
   "source": [
    "# initialize fitting parameters with zeros\n",
    "theta = np.zeros((2,1))\n",
    "\n",
    "# Play with these setting to see how these parameters play a huge, for a decent converge use below parameters\n",
    "precision = 0.000001\n",
    "alpha = 0.001\n",
    "\n",
    "##################################### Your Code here ########################################\n",
    "theta, J_history, cost, count = gradientDescent(X_appended, y, theta, alpha, precision)"
   ]
  },
  {
   "cell_type": "code",
   "execution_count": 247,
   "metadata": {},
   "outputs": [
    {
     "name": "stdout",
     "output_type": "stream",
     "text": [
      "theta = [[17.66877817]\n",
      " [ 4.90802217]]\n",
      "ϴ₀ = 17.668778\n",
      "ϴ₁ = 4.908022\n",
      "Number of iterations = 18996\n",
      "Value of Cost function = 2.424135\n"
     ]
    }
   ],
   "source": [
    "print(\"theta = \"+str(theta))\n",
    "print(u'\\u03F4\\u2080 = %f'%theta[0])\n",
    "print(u'\\u03F4\\u2081 = %f'%theta[1])\n",
    "print(\"Number of iterations = %d\"%count)\n",
    "print(\"Value of Cost function = %f\"%cost)"
   ]
  },
  {
   "cell_type": "markdown",
   "metadata": {},
   "source": [
    "## 3.4. Plot the Training Curve\n",
    "**Tip:** Initially the change in the loss(J) are drastic and dominating. So while plotting you may remove the first 10% of the iterations and then plot to see a smooth curve in the training process"
   ]
  },
  {
   "cell_type": "code",
   "execution_count": 248,
   "metadata": {},
   "outputs": [
    {
     "data": {
      "text/plain": [
       "Text(0.5, 1.0, 'Training Curve')"
      ]
     },
     "execution_count": 248,
     "metadata": {},
     "output_type": "execute_result"
    },
    {
     "data": {
      "image/png": "[encoded data removed]",
      "text/plain": [
       "<Figure size 576x432 with 1 Axes>"
      ]
     },
     "metadata": {
      "needs_background": "light"
     },
     "output_type": "display_data"
    }
   ],
   "source": [
    "plt.figure(figsize=(8,6))\n",
    "l = len(J_history)\n",
    "cost_vals = J_history[int(0.1*l):]\n",
    "plt.plot([i for i in range(int(0.1*l)+1,l+1)],cost_vals,\"-\",markersize=3)\n",
    "plt.xlabel(\"Number of Iterations\")\n",
    "plt.ylabel(\"Cost\")\n",
    "plt.title(\"Training Curve\")"
   ]
  },
  {
   "cell_type": "markdown",
   "metadata": {},
   "source": [
    "As observed, the cost function decreases with increase in number of iterations and eventually flattens"
   ]
  },
  {
   "cell_type": "markdown",
   "metadata": {},
   "source": [
    "## 3.5. Predict Outputs and Plot the results\n",
    "Same as Step 5 in the Section 2. You can use the same function predict(X, theta)"
   ]
  },
  {
   "cell_type": "code",
   "execution_count": 249,
   "metadata": {},
   "outputs": [
    {
     "data": {
      "text/plain": [
       "<matplotlib.legend.Legend at 0x1d6fe6cefc8>"
      ]
     },
     "execution_count": 249,
     "metadata": {},
     "output_type": "execute_result"
    },
    {
     "data": {
      "image/png": "[encoded data removed]",
      "text/plain": [
       "<Figure size 576x432 with 1 Axes>"
      ]
     },
     "metadata": {
      "needs_background": "light"
     },
     "output_type": "display_data"
    }
   ],
   "source": [
    "# plot a line for predictions and scatter plot for the training data X,y\n",
    "plt.figure(figsize=(8,6))\n",
    "plt.plot(X,np.dot(X_appended,theta),\"-\")\n",
    "plt.plot(X,y,\"o\")\n",
    "plt.xlabel(\"x\")\n",
    "plt.ylabel(\"y\")\n",
    "plt.legend([\"linear model\",\"data\"])"
   ]
  },
  {
   "cell_type": "markdown",
   "metadata": {},
   "source": [
    "# Section 4 : Selecting appropriate learning rate\n",
    "**Implementation Note:** If your learning rate is too large, $J(\\theta)$ can diverge and ‘blow up’, resulting in values which are too large for computer calculations. In these situations, `numpy` will tend to return\n",
    "NaNs. NaN stands for ‘not a number’ and is often caused by undefined operations that involve −∞ and +∞. So dont worry even if you cost as inf or NaN\n",
    "\n",
    "**Repeat the training as in Section 3 with different values of alpha as listed below. Print the alpha, cost and number of iterations it took for every alpha**"
   ]
  },
  {
   "cell_type": "code",
   "execution_count": 250,
   "metadata": {},
   "outputs": [
    {
     "name": "stdout",
     "output_type": "stream",
     "text": [
      ">> For alpha = 0.0001: \n",
      "-> Cost: 2.4413078221495095\n",
      "-> Number of Iterations: 146030\n",
      "\n",
      ">> For alpha = 0.0003: \n",
      "-> Cost: 2.4285868952040355\n",
      "-> Number of Iterations: 55664\n",
      "\n",
      ">> For alpha = 0.0005: \n",
      "-> Cost: 2.4260422656254055\n",
      "-> Number of Iterations: 35348\n",
      "\n",
      ">> For alpha = 0.0007: \n",
      "-> Cost: 2.424951548553128\n",
      "-> Number of Iterations: 26166\n",
      "\n",
      ">> For alpha = 0.001: \n",
      "-> Cost: 2.424134514167511\n",
      "-> Number of Iterations: 18996\n",
      "\n",
      ">> For alpha = 0.003: \n",
      "-> Cost: 2.4228624540119243\n",
      "-> Number of Iterations: 7030\n",
      "\n",
      ">> For alpha = 0.005: \n",
      "-> Cost: 2.4226074531485455\n",
      "-> Number of Iterations: 4413\n",
      "\n",
      ">> For alpha = 0.007: \n",
      "-> Cost: inf\n",
      "-> Number of Iterations: 261808\n",
      "\n",
      ">> For alpha = 0.01: \n",
      "-> Cost: inf\n",
      "-> Number of Iterations: 565\n",
      "\n",
      ">> For alpha = 0.03: \n",
      "-> Cost: inf\n",
      "-> Number of Iterations: 175\n",
      "\n",
      ">> For alpha = 0.05: \n",
      "-> Cost: inf\n",
      "-> Number of Iterations: 137\n",
      "\n",
      ">> For alpha = 0.07: \n",
      "-> Cost: inf\n",
      "-> Number of Iterations: 121\n",
      "\n",
      ">> For alpha = 0.1: \n",
      "-> Cost: inf\n",
      "-> Number of Iterations: 108\n",
      "\n",
      ">> For alpha = 0.3: \n",
      "-> Cost: inf\n",
      "-> Number of Iterations: 81\n",
      "\n"
     ]
    }
   ],
   "source": [
    "theta = np.zeros((2,1))\n",
    "precision = 0.000001\n",
    "\n",
    "# You can change this set of alphas and try out different, but keep your range less than 1\n",
    "alphas = [0.0001, 0.0003, 0.0005, 0.0007, 0.001, 0.003, 0.005, 0.007, 0.01,0.03, 0.05, 0.07, 0.1, 0.3]\n",
    "\n",
    "# Write your code here\n",
    "for alpha in alphas:\n",
    "    theta = np.zeros((2,1))\n",
    "    theta, J_history, cost, count = gradientDescent(X_appended, y, theta, alpha, precision)\n",
    "    print(\">> For alpha = \"+str(alpha)+\": \")\n",
    "    print(\"-> Cost: \"+str(cost))\n",
    "    print(\"-> Number of Iterations: \"+str(count),end=\"\\n\\n\")"
   ]
  },
  {
   "cell_type": "markdown",
   "metadata": {},
   "source": [
    "## Section 5: Questions on Analytical and Gradient Descent approaches\n",
    "\n",
    "1. Are the results from both the analytical and gradient descent approach are same? If not, why?\n",
    "2. When do u prefer analytical approach and gradient descent approach? Hint: Explain interms of size of the dataset\n",
    "3. Can we use different cost function in place of MSE? If we do, where will be changes in the gradient descent step?(Just mention using words, equations are not required)\n",
    "4. How does the initialisation of the parameters $\\theta$ effects the convergence? In this case we initialised $\\theta$ to zeros. What happens if we choose closer to solution and farther to solution?\n",
    "5. Any drawbacks of Gradient descent that you could think of? Hint : Interms of Convergence rate.\n",
    "6. What if number of features increases and how does it effect the gradient descent approach and analytical approach? Note:This might require some time to look for appropriate concepts. But do note that this difference is very important to understand.\n",
    "7. Comment your observations on selecting appropriate learning rate.\n",
    "\n",
    "**Write your answers in the following Markdown**"
   ]
  },
  {
   "cell_type": "markdown",
   "metadata": {},
   "source": [
    "#### Q1.\n",
    "The results (parameter estimates) from the analytical and gradient descent approach are not exactly the same, although they are close enough. While the analytical method tries to find the exact minima of least squares using the normal equation, gradient descent is an iterative optimization algorithm that attempts to minimize the cost function by taking steps proportional to the negative of the gradient of the cost funtion, and the parameters are updated in this manner. The final result obtained through gradient descent approach depends on factors like **parameter initializations, learning rate and number of iterations**. Hence, there is no guarrantee that gradient descent converges to the exact minima, but usually converges close to it (depending on the hyperparameters). Due to these reasons, the estimates obtained from both approaches may not be the same."
   ]
  },
  {
   "cell_type": "markdown",
   "metadata": {},
   "source": [
    "#### Q2.\n",
    "Although the analytical approach gives the most accurate solution, it involves computing the inverse of $A^TA$, which poses huge computational problems as the size of the matrix becomes larger, due to plenty of mathematical operations. In such scenarios, gradient descent approach should be preferred. On the other hand, when the number of training examples is small enough, analytical approaches can be preferred."
   ]
  },
  {
   "cell_type": "markdown",
   "metadata": {},
   "source": [
    "#### Q3.\n",
    "Apart from Mean Square Error (MSE), which is a quadratic loss function, other loss functions that are used include, Mean Absolute Error (MAE), Huber Loss, Log cosh loss and quantile loss. Depending on the loss function we choose, there will be changes in the gradient descent step based on the nature of the derivative of the loss function. In the case of MAE, the gradient steps will be constant (if learning rate is fixed) and independent of $x$. Due to this, the gradient step will be large when we are close to the optimum, which is disadvantageous. On the other hand, MSE behaves better as we move closer to the optimum by taking shorter gradient steps. When very farther from the optimum, MSE takes larger steps than MAE. "
   ]
  },
  {
   "cell_type": "markdown",
   "metadata": {},
   "source": [
    "#### Q4.\n",
    "The initialization of parameters $\\theta$ affect the number of steps required for convergence. If we initialize $\\theta$ closer to the solution, the rate of convergence will be faster, i.e. it will converge in less number of steps. On the other hand, if $\\theta$ is initialized farther from the solution, it will take higher number of steps to converge."
   ]
  },
  {
   "cell_type": "markdown",
   "metadata": {},
   "source": [
    "#### Q5.\n",
    "\n",
    "The disadvantages of Gradient Descent approach include:\n",
    "- Local Optima: When the cost function if non-convex in nature, gradien descent often converges to a local optimum which may not always be the best solution (as opposed to global optima)\n",
    "- When the learning rate is high, gradient descent algorithm diverges rather than converging\n",
    "- When the learning rate is very small, the algorithm would not have reached the optimum even after large number of gradient steps. (Tuning the learning rate can resolve this to some extent)\n",
    "- The rate of convergence is highly dependent on the parameter initializations and the learning rate, and determine the ideal values for both is difficult\n",
    "- Large datasets result in slower convergence and high memory usage"
   ]
  },
  {
   "cell_type": "markdown",
   "metadata": {},
   "source": [
    "#### Q6.\n",
    "When the number of features increases, higher number of parameters are supposed to estimated. This affects both gradient descent and analytical approaches in terms of computational power. In the case of analytical approach, computing $(A^TA)^{-1}_{n\\times n}$ would become more difficult as $n$ is higher. In the case of gradient descent approach, we have to perform higher number of parameter updations and the parameter seach space becomes higher dimensional.\n",
    "\n",
    "In a special case when the number of features exceed the number of training examples, it becomes and underdetermined solution. Such systems can have infinitely many solutions or no solutions. In this case, we minimise minimise the norm of $x$ and the analytical equation becomes $$\\theta = A^T(AA^T)^{-1}y$$\n",
    "\n",
    "Higher number of features sometime leads to overfitting, where the model does not generalize to unseen data. This can be handled by regularization."
   ]
  },
  {
   "cell_type": "markdown",
   "metadata": {},
   "source": [
    "#### Q7.\n",
    "It is evident that choosing the appropriate learning rate is crucial in the convergence and performance of gradient descent algorithms. A possible strategy would be to try out different values of learning rates and note the one which gives the lowest cost value (and possibly less number of iterations). Following this, we can narrow down the search space further by trying out learning rate values closer to the observed one. \n",
    "\n",
    "In this assignment, different learning rates ranging from 0.0001 to 0.3 have been used to train the gradient descent algorithm and the cost value and the number of iterations were noted in each case. It can be noted that all learning rates from 0.0001 to 0.005, resulted in convergence, with 0.005 having the lowest cost of 2.4226 and reasonably less number of iterations (4413). Following these values, all the other learning rates resulted in divergence of the cost function to infinity, even for a closer value of 0.007.\n",
    "\n",
    "Hence, 0.005 is the best learning rate. If further exploration is required, the search space can be narrowed down to values in the neighborhood of 0.005."
   ]
  },
  {
   "cell_type": "code",
   "execution_count": null,
   "metadata": {},
   "outputs": [],
   "source": []
  }
 ],
 "metadata": {
  "kernelspec": {
   "display_name": "Python 3",
   "language": "python",
   "name": "python3"
  },
  "language_info": {
   "codemirror_mode": {
    "name": "ipython",
    "version": 3
   },
   "file_extension": ".py",
   "mimetype": "text/x-python",
   "name": "python",
   "nbconvert_exporter": "python",
   "pygments_lexer": "ipython3",
   "version": "3.7.6"
  }
 },
 "nbformat": 4,
 "nbformat_minor": 2
}
