{
 "cells": [
  {
   "cell_type": "markdown",
   "metadata": {},
   "source": [
    "#  Classification : Nearest Neighbors and Naive Bayes "
   ]
  },
  {
   "cell_type": "markdown",
   "metadata": {},
   "source": [
    "## Classification using Nearest Neighbors"
   ]
  },
  {
   "cell_type": "markdown",
   "metadata": {},
   "source": [
    "(a) Perform k-Nearest neighbours on the given dataset($X_{knn}$ and $y_{knn}$: where $X_{knn}$ stores feature vectors representing the movies and  $y_{knn}$ stores the 0-1 labelling for each movie) for binary classification of movies, for classifiying whether a given movie is a comedy(label 1) or not a comedy(label 0) . Split the dataset into train(80%), validation(10%) and test sets(10%).Run k-Nearest neighbours for different k values (1,3,7,15,31,63). Select the k, using validation set, which returns the best accuracy score. \n",
    "\n",
    "(i)  Report all the validation accuracies for all the values of k. \n",
    "<br>(ii) Report accuracy score by performing k-NN on the test dataset using the best chosen k value. "
   ]
  },
  {
   "cell_type": "code",
   "execution_count": 2,
   "metadata": {},
   "outputs": [],
   "source": [
    "## Importing packages\n",
    "import numpy as np\n",
    "import pandas as pd\n",
    "from sklearn.model_selection import train_test_split\n",
    "import matplotlib.pyplot as plt"
   ]
  },
  {
   "cell_type": "code",
   "execution_count": 3,
   "metadata": {},
   "outputs": [],
   "source": [
    "## Loading dataset\n",
    "X_knn = pd.read_csv(\"X_knn.csv\",header=None,sep=\" \")\n",
    "y_knn = pd.read_csv(\"y_knn.csv\",header = None).astype(int)"
   ]
  },
  {
   "cell_type": "code",
   "execution_count": 4,
   "metadata": {},
   "outputs": [],
   "source": [
    "# Train, Validation, Test set splittings\n",
    "np.random.seed(20)\n",
    "X_train_and_val,X_test, y_train_and_val, y_test = train_test_split(X_knn,y_knn,train_size = 0.9, test_size = 0.1,shuffle = True)\n",
    "X_train, X_val, y_train, y_val = train_test_split(X_train_and_val,y_train_and_val,test_size = 1/9)"
   ]
  },
  {
   "cell_type": "code",
   "execution_count": 5,
   "metadata": {},
   "outputs": [],
   "source": [
    "def compute_dist(X_new,X):\n",
    "    \"\"\"\n",
    "    Function to compute distance matrix\n",
    "    X_new: Dataset to perform prediction on\n",
    "    X: Training dataset\n",
    "    Returns -\n",
    "    dist_array: Distance matrix\n",
    "    \"\"\"\n",
    "    \n",
    "    (m_new,n_new) = X_new.shape\n",
    "    (m,n) = X.shape\n",
    "    \n",
    "    dist_array = np.zeros((m_new,m))\n",
    "    \n",
    "    for i in range(m_new):\n",
    "        for j in range(m):\n",
    "            dist = np.linalg.norm(X_new[i,:]-X[j,:])\n",
    "            dist_array[i,j] = dist\n",
    "    return dist_array\n",
    "\n",
    "def predict_knn(dist_array,X_new,y,k):\n",
    "    \"\"\"\n",
    "    Function to predict the label of a new data point using kNN\n",
    "    Returns - \n",
    "    y_pred: perdicted class label vector\n",
    "    \"\"\"\n",
    "    (m,n) = X_new.shape\n",
    "    y_pred = np.zeros((m,1))\n",
    "    \n",
    "    for i in range(m):\n",
    "        index = np.argsort(dist_array[i][:])\n",
    "        pos = 0\n",
    "        #Noting the labels of k-Nearest neighbours\n",
    "        for near in range(k):\n",
    "            if y[index[near]][0]==1:\n",
    "                pos+=1\n",
    "        if pos>k-pos:\n",
    "            y_pred[i] = 1\n",
    "        else:\n",
    "            y_pred[i] = 0\n",
    "            \n",
    "    return y_pred\n",
    "    "
   ]
  },
  {
   "cell_type": "code",
   "execution_count": 104,
   "metadata": {},
   "outputs": [
    {
     "name": "stdout",
     "output_type": "stream",
     "text": [
      "kNN with k = 1\n",
      "Cross-Validation Accuracy: 0.797\n",
      "\n",
      "kNN with k = 3\n",
      "Cross-Validation Accuracy: 0.840\n",
      "\n",
      "kNN with k = 7\n",
      "Cross-Validation Accuracy: 0.858\n",
      "\n",
      "kNN with k = 15\n",
      "Cross-Validation Accuracy: 0.865\n",
      "\n",
      "kNN with k = 31\n",
      "Cross-Validation Accuracy: 0.862\n",
      "\n",
      "kNN with k = 63\n",
      "Cross-Validation Accuracy: 0.854\n",
      "\n"
     ]
    },
    {
     "data": {
      "text/plain": [
       "Text(0.5, 1.0, 'Validation Accuracy vs number of nearest neighbors k')"
      ]
     },
     "execution_count": 104,
     "metadata": {},
     "output_type": "execute_result"
    },
    {
     "data": {
      "image/png": "[encoded data removed]",
      "text/plain": [
       "<Figure size 432x288 with 1 Axes>"
      ]
     },
     "metadata": {
      "needs_background": "light"
     },
     "output_type": "display_data"
    }
   ],
   "source": [
    "#Training the model with different k-values\n",
    "k_values = [1,3,7,15,31,63]\n",
    "cv_scores = []\n",
    "models = []\n",
    "\n",
    "dist_array = compute_dist(np.array(X_val),np.array(X_train))\n",
    "for k in k_values:\n",
    "    print(\"kNN with k = %d\"%k)\n",
    "    \n",
    "    #Prediction on validation dataset\n",
    "    y_hat_val = predict_knn(dist_array,np.array(X_val),np.array(y_train),k)\n",
    "    cv_acc = np.sum(y_hat_val==y_val)[0]/len(y_val)\n",
    "    print(\"Cross-Validation Accuracy: %0.3f\"%cv_acc,end = \"\\n\\n\")\n",
    "    cv_scores.append(cv_acc)\n",
    "\n",
    "#Storing best k-value\n",
    "k_best = k_values[cv_scores.index(max(cv_scores))]\n",
    "\n",
    "#Plotting \n",
    "plt.figure()\n",
    "plt.plot(k_values,cv_scores,\"-o\")\n",
    "plt.xlabel(\"k\")\n",
    "plt.ylabel(\"Cross-Validation Accuracy\")\n",
    "plt.title(\"Validation Accuracy vs number of nearest neighbors k\")"
   ]
  },
  {
   "cell_type": "markdown",
   "metadata": {},
   "source": [
    "**We can notice that $k=15$ gives the highest cross-validation accuracy of 0.865**"
   ]
  },
  {
   "cell_type": "code",
   "execution_count": 105,
   "metadata": {},
   "outputs": [
    {
     "name": "stdout",
     "output_type": "stream",
     "text": [
      "Accuracy of the best model on the test dataset = 0.846\n"
     ]
    }
   ],
   "source": [
    "#Evalutating the trained model on the test set with best value of k\n",
    "dist_array_test = compute_dist(np.array(X_test),np.array(X_train))\n",
    "y_hat_test = predict_knn(dist_array_test,np.array(X_test),np.array(y_train),k_best)\n",
    "#Calculating accuracy\n",
    "test_acc = np.sum(y_hat_test==y_test)[0]/len(y_test)\n",
    "\n",
    "print(\"Accuracy of the best model on the test dataset = %0.3f\"%test_acc)"
   ]
  },
  {
   "cell_type": "markdown",
   "metadata": {},
   "source": [
    "(b) State why using an even value of k in k-NN should not be chosen"
   ]
  },
  {
   "cell_type": "markdown",
   "metadata": {},
   "source": [
    "The k-Nearest Neighbors algorithm works on the assumption that data points that are closer in distance are similar. Precisely, if we want to predict the class of a given data point, we observe the class labels of the k nearest (in distance) neighbours. We assign the label to the data point based on the majority of the labels of k nearest neighbors. \n",
    "\n",
    "In this regard, considering binary classification, if $k$ is even, there are chances that $k/2$ neighbors are labeled as one class (say class $1$) and the remaining $k/2$ neighbors are labeled the other (class $0$). This results in a tie as no class is the majority among the neighbours, and hence it becomes difficult to assign a label to the data point. To bypass this issue, it is recommended to choose an odd value of k.\n",
    "\n",
    "In datasets involving multiple classes (more than 2), such situations are more prone to occur even if $k$ is not even."
   ]
  },
  {
   "cell_type": "markdown",
   "metadata": {},
   "source": [
    "## Learning Naive Bayes' classifier  "
   ]
  },
  {
   "cell_type": "markdown",
   "metadata": {},
   "source": [
    "### From Continuous Distribution of data"
   ]
  },
  {
   "cell_type": "markdown",
   "metadata": {},
   "source": [
    "Here, the distribution of the data( $X$ represents the datapoints and $Y$ represents the 0-1 binary-class label; where 0 being the negative class and 1 being the positive class) is already known.\n",
    "<br>Consider the following one-dimensional(1-D) Gaussian distributions where means and variances are unknown. You need to estimate means($\\mu_-$: for negative class and  $\\mu_+$: for positive class) and variances ($\\sigma^{2}_{-}$: for negative class and $\\sigma^{2}_+$: for positive class) from the given data : \n",
    "<br> (1) Assume $X|Y_{Y=0} \\sim \\mathcal{N}(\\mu_- , \\sigma^{2}_-)$ \n",
    "<br>(2) Assume $X|Y_{Y=1} \\sim \\mathcal{N}(\\mu_+ , \\sigma^{2}_+)$\n"
   ]
  },
  {
   "cell_type": "markdown",
   "metadata": {},
   "source": [
    "*Generating artificial datasets in the next cell *"
   ]
  },
  {
   "cell_type": "code",
   "execution_count": 107,
   "metadata": {},
   "outputs": [],
   "source": [
    "## This cell is for generating datasets. Students should not change anything in this cell. \n",
    "## You can compare your mean and variance estimates by the actual ones used to generate these datasets\n",
    "\n",
    "import numpy as np\n",
    "X_pos = np.random.randn(1000,1)+np.array([[2.]])\n",
    "X_neg = np.random.randn(1000,1)+np.array([[4.]])\n",
    "X_train_pos = X_pos[:900]\n",
    "X_train_neg = X_neg[:900]\n",
    "X_test_pos = X_pos[900:]\n",
    "X_test_neg = X_neg[900:]\n",
    "X_train = np.concatenate((X_train_pos, X_train_neg), axis=0)\n",
    "X_test = np.concatenate((X_test_pos, X_test_neg), axis=0)\n",
    "Y_train = np.concatenate(( np.ones(900),np.zeros(900) ))\n",
    "Y_test = np.concatenate(( np.ones(100), np.zeros(100) ))\n",
    "\n",
    "## X_train, X_test, Y_train, Y_test are your datasets to work with ####"
   ]
  },
  {
   "cell_type": "markdown",
   "metadata": {},
   "source": [
    "\n",
    "\n",
    "<br>**Instructions to follow for learning a Baeysian classifier:** *(Code the formulae for estimating the different parameters yourself)*\n",
    "<br> a)Utilize the training dataset to estimate the means($\\hat{\\mu_+}$,$\\hat{\\mu_-}$) and variances($\\hat{\\sigma^{2}_+}$, $\\hat{\\sigma^{2}_-}$) for both positive and negative classes  \n",
    "b)Estimate the prior probability: $P(Y=1)$  ⟶ which could be referred to as: $\\hat{a}$ \n",
    "<br>c)Estimate the classifier funtion/posterior probability:  $P(Y=1|X = x)$  ⟶ which could be referred to as $\\hat{\\eta(x)}$\n",
    "<br>d)Find out the threshold value($x^*$) for classification by equating the estimated classifier function($\\hat{\\eta(x)}$)  with threshold probability of 0.5\n",
    "<br>e)Classify the test dataset into the two classes using this threshold value($x^*$) and find out the **accuracy** of the prediction \n",
    "\n",
    "Return back:  $\\hat{\\mu_+}$, $\\hat{\\mu_-}$, $\\hat{\\sigma^{2}_+}$, $\\hat{\\sigma^{2}_-}$, $\\hat{a}$, $x^*$ and accuracy from the code written \n",
    "\n",
    "*Hint: $X|Y_{Y=0} \\sim \\mathcal{N}(\\mu_- , \\sigma^{2}_-)$ implies $P_{X|Y=0} = \\mathcal{N}(\\mu_- , \\sigma^{2}_-) $*\n"
   ]
  },
  {
   "cell_type": "code",
   "execution_count": 108,
   "metadata": {},
   "outputs": [],
   "source": [
    "## Training Naive Bayes Algorithm\n",
    "# Estimating prior probabilities from training data\n",
    "(m,n) = X_train.shape\n",
    "prior_1 = np.sum(Y_train==1)/m  #a_cap = p(Y=1)\n",
    "prior_0 = 1-prior_1\n",
    "\n",
    "gauss = lambda x,mu,sig: (1/(np.sqrt(2*np.pi)*sig)) * np.exp(-((x-mu)**2)/(2*sig**2))\n",
    "\n",
    "# Estimating parameters of Gaussian distribution for each class\n",
    "mu_class0 = np.mean(X_train[Y_train==0])\n",
    "mu_class1 = np.mean(X_train[Y_train==1])\n",
    "\n",
    "std_class0 = np.std(X_train[Y_train==0])\n",
    "std_class1 = np.std(X_train[Y_train==1])\n",
    "\n",
    "#Evaluating likelihoods of the training data for each class\n",
    "class_probab_0 = gauss(X_train,mu_class0,std_class0)*prior_0\n",
    "class_probab_1 = gauss(X_train,mu_class1,std_class1)*prior_1\n",
    "\n",
    "#Evaluating posterior probabilities of the training data for each class\n",
    "posterior_class0 = class_probab_0/(class_probab_0+class_probab_1)\n",
    "posterior_class1 = class_probab_1/(class_probab_0+class_probab_1)\n",
    "\n",
    "#Training set predictions\n",
    "Y_pred_train = (posterior_class1>0.5).astype(int)\n",
    "\n",
    "#Determining training accuracy\n",
    "train_acc = np.mean(Y_pred_train == Y_train.reshape(-1,1))"
   ]
  },
  {
   "cell_type": "code",
   "execution_count": 109,
   "metadata": {},
   "outputs": [
    {
     "data": {
      "text/plain": [
       "(1.9547133896235733,\n",
       " 4.047271149433509,\n",
       " 0.9409209740987953,\n",
       " 0.9352267651153012,\n",
       " 0.5)"
      ]
     },
     "execution_count": 109,
     "metadata": {},
     "output_type": "execute_result"
    }
   ],
   "source": [
    "mu_class1, mu_class0, std_class1**2, std_class0**2, prior_1"
   ]
  },
  {
   "cell_type": "markdown",
   "metadata": {},
   "source": [
    "$$\\hat{\\mu_+} = 1.9547$$\n",
    "$$\\hat{\\mu_-} = 4.0473$$\n",
    "$$\\hat{\\sigma^{2}_+} = 0.94092$$\n",
    "$$\\hat{\\sigma^{2}_-} = 0.93523$$\n",
    "$$\\hat{a} = 0.5$$ "
   ]
  },
  {
   "cell_type": "markdown",
   "metadata": {},
   "source": [
    "Hence, the classifier/posterior PDF function (upon cancelling the prior and normalisation terms) is $$P(Y=1|X=x) = \\hat{\\eta}(x) = \\frac{\\frac{1}{\\sigma_+}e^{-\\frac{(x-\\mu_+)^2}{2\\sigma^{2}_+}}}{\\frac{1}{\\sigma_+}e^{-\\frac{(x-\\mu_+)^2}{2\\sigma^{2}_+}} + \\frac{1}{\\sigma_-}e^{-\\frac{(x-\\mu_-)^2}{2\\sigma^{2}_-}}}$$"
   ]
  },
  {
   "cell_type": "markdown",
   "metadata": {},
   "source": [
    "$\\hat{\\eta}(X_{train})$ is given blow"
   ]
  },
  {
   "cell_type": "code",
   "execution_count": 110,
   "metadata": {},
   "outputs": [
    {
     "data": {
      "text/html": [
       "<div>\n",
       "<style scoped>\n",
       "    .dataframe tbody tr th:only-of-type {\n",
       "        vertical-align: middle;\n",
       "    }\n",
       "\n",
       "    .dataframe tbody tr th {\n",
       "        vertical-align: top;\n",
       "    }\n",
       "\n",
       "    .dataframe thead th {\n",
       "        text-align: right;\n",
       "    }\n",
       "</style>\n",
       "<table border=\"1\" class=\"dataframe\">\n",
       "  <thead>\n",
       "    <tr style=\"text-align: right;\">\n",
       "      <th></th>\n",
       "      <th>0</th>\n",
       "    </tr>\n",
       "  </thead>\n",
       "  <tbody>\n",
       "    <tr>\n",
       "      <th>0</th>\n",
       "      <td>0.885333</td>\n",
       "    </tr>\n",
       "    <tr>\n",
       "      <th>1</th>\n",
       "      <td>0.554934</td>\n",
       "    </tr>\n",
       "    <tr>\n",
       "      <th>2</th>\n",
       "      <td>0.701000</td>\n",
       "    </tr>\n",
       "    <tr>\n",
       "      <th>3</th>\n",
       "      <td>0.328543</td>\n",
       "    </tr>\n",
       "    <tr>\n",
       "      <th>4</th>\n",
       "      <td>0.832632</td>\n",
       "    </tr>\n",
       "    <tr>\n",
       "      <th>...</th>\n",
       "      <td>...</td>\n",
       "    </tr>\n",
       "    <tr>\n",
       "      <th>1795</th>\n",
       "      <td>0.003395</td>\n",
       "    </tr>\n",
       "    <tr>\n",
       "      <th>1796</th>\n",
       "      <td>0.197703</td>\n",
       "    </tr>\n",
       "    <tr>\n",
       "      <th>1797</th>\n",
       "      <td>0.011511</td>\n",
       "    </tr>\n",
       "    <tr>\n",
       "      <th>1798</th>\n",
       "      <td>0.025318</td>\n",
       "    </tr>\n",
       "    <tr>\n",
       "      <th>1799</th>\n",
       "      <td>0.169666</td>\n",
       "    </tr>\n",
       "  </tbody>\n",
       "</table>\n",
       "<p>1800 rows × 1 columns</p>\n",
       "</div>"
      ],
      "text/plain": [
       "             0\n",
       "0     0.885333\n",
       "1     0.554934\n",
       "2     0.701000\n",
       "3     0.328543\n",
       "4     0.832632\n",
       "...        ...\n",
       "1795  0.003395\n",
       "1796  0.197703\n",
       "1797  0.011511\n",
       "1798  0.025318\n",
       "1799  0.169666\n",
       "\n",
       "[1800 rows x 1 columns]"
      ]
     },
     "execution_count": 110,
     "metadata": {},
     "output_type": "execute_result"
    }
   ],
   "source": [
    "pd.DataFrame(posterior_class1)"
   ]
  },
  {
   "cell_type": "markdown",
   "metadata": {},
   "source": [
    "Equating $\\hat{\\eta}(x) = P(Y=1) = 0.5$, we can reframe it to solving the roots of:\n",
    "\n",
    "$$(\\frac{1}{2\\hat{\\sigma^{2}_+}} - \\frac{1}{2\\hat{\\sigma^{2}_-}})x^2 + (\\frac{\\mu_-}{\\hat{\\sigma^{2}_-}} - \\frac{\\mu_+}{\\hat{\\sigma^{2}_+}})x + \\frac{\\mu_+^2}{\\hat{2\\sigma^{2}_+}} - \\frac{\\mu_-^2}{2\\hat{\\sigma^{2}_-}} - \\ln(\\frac{\\sigma_-}{\\sigma_+}) = 0$$"
   ]
  },
  {
   "cell_type": "code",
   "execution_count": 111,
   "metadata": {},
   "outputs": [],
   "source": [
    "## Mathematically determining x* by solving the quadratic equation\n",
    "a = (1/(2*std_class1**2) - 1/(2*std_class0**2))\n",
    "b = (mu_class0/(std_class0**2) - mu_class1/(std_class1**2))\n",
    "c = (mu_class1**2/(2*std_class1**2) - mu_class0**2/(2*std_class0**2)) - np.log(std_class0/std_class1)\n",
    "\n",
    "x_star = (-b + np.sqrt(b**2-4*a*c))/(2*a)"
   ]
  },
  {
   "cell_type": "code",
   "execution_count": 112,
   "metadata": {},
   "outputs": [
    {
     "data": {
      "text/plain": [
       "3.001219448352256"
      ]
     },
     "execution_count": 112,
     "metadata": {},
     "output_type": "execute_result"
    }
   ],
   "source": [
    "x_star"
   ]
  },
  {
   "cell_type": "markdown",
   "metadata": {},
   "source": [
    "Hence $$x^* = 3.00122$$"
   ]
  },
  {
   "cell_type": "markdown",
   "metadata": {},
   "source": [
    "Therefore, if $x>x^*$, $Y$ is more likely to be $0$ and if $x<x^*$, $Y$ is more likely to be $1$"
   ]
  },
  {
   "cell_type": "code",
   "execution_count": 116,
   "metadata": {},
   "outputs": [
    {
     "name": "stdout",
     "output_type": "stream",
     "text": [
      "Training Accuracy: 0.860000\n"
     ]
    }
   ],
   "source": [
    "print(\"Training Accuracy: %f\"%train_acc)"
   ]
  },
  {
   "cell_type": "code",
   "execution_count": 120,
   "metadata": {},
   "outputs": [],
   "source": [
    "#Classifying the test dataset based on the obtained threshold x*\n",
    "\n",
    "m_test = X_test.shape[0]\n",
    "\n",
    "Y_pred_test = np.zeros((m_test,1))\n",
    "#Values less than the threshold are labelled 1\n",
    "Y_pred_test[X_test<=x_star] = 1\n",
    "\n",
    "test_acc = np.mean(Y_pred_test == Y_test.reshape(-1,1))"
   ]
  },
  {
   "cell_type": "code",
   "execution_count": 121,
   "metadata": {},
   "outputs": [
    {
     "name": "stdout",
     "output_type": "stream",
     "text": [
      "Test Accuracy: 0.800000\n"
     ]
    }
   ],
   "source": [
    "print(\"Test Accuracy: %f\"%test_acc)"
   ]
  },
  {
   "cell_type": "markdown",
   "metadata": {},
   "source": [
    "### From Discrete distribution of data"
   ]
  },
  {
   "cell_type": "markdown",
   "metadata": {},
   "source": [
    "Unlike the first exercise for learning the Naive Bayes' classifier where we dealt with continuous distribution of data, here you need to work with discrete data, which means finding Probability Mass Distribution(PMF). \n",
    "\n",
    "Age  | Income | Status  | Buy\n",
    "-----|--------|-------- |----\n",
    "<=20 |  low   | students| yes\n",
    "<=20 |  high  | students| yes\n",
    "<=20 | medium | students| no\n",
    "<=20 | medium | married | no\n",
    "<=20 |  high  | married | yes\n",
    "21-30|  low   | married | yes\n",
    "21-30|  low   | married | no \n",
    "21-30| medium | students| no\n",
    "21-30|  high  | students| yes\n",
    " >30 |  high  | married | no\n",
    " >30 |  high  | married | yes\n",
    " >30 | medium | married | yes\n",
    " >30 | medium | married | no\n",
    " >30 | medium | students| no\n",
    " \n",
    "Consider the train dataset above. Take any random datapoint ($X_{i}$) where $X_{i} = (X_{i,1} = Age,X_{i,2} = Income,X_{i,3} = Status)$ and its corresponding label \n",
    "\n",
    "($Y_{i} = Buy$). A \"yes\" in Buy corresponds to label-1 and a \"no\" in Buy corresponds to label-0.\n",
    "\n",
    "<br>**Instructions to follow for learning a Baeysian classifier:** *(Code the formulae for estimating the different parameters yourself)*\n",
    "<br> a)Estimate the prior probability: $P(Y=1)$  ⟶ which could be referred to as: $\\hat{a}$   \n",
    "b)Estimate the likelihood for each feature:  $P(X_{i,j} = x |Y = y_{i})$, where $ i$=datapoint counter, $j \\in \\{1,2,3\\}$ and $y_{i} \\in \\{0,1\\}$ \n",
    "<br>c)Estimate the total likelihood: $P(X_{i} = x |Y = y_{i})$  \n",
    "d)Calculate the posterior probability: $P(Y = 1|X_{i} = x_{test} )$ = $p_{test}$ where $x_{test} = (Age = 21-30, Income= medium, Status = married)$\n",
    "\n",
    "\n",
    "Return back: $\\hat{a}$, total likelihood and $p_{test}$ \n"
   ]
  },
  {
   "cell_type": "code",
   "execution_count": 1,
   "metadata": {},
   "outputs": [],
   "source": [
    "## Part (a) - Estimating prior, P(Y=1)\n",
    "\n",
    "#a_cap = P(Y=1)\n",
    "prior_buy = 7/14\n",
    "#P(Y=0)\n",
    "prior_nobuy = 1- prior_buy"
   ]
  },
  {
   "cell_type": "code",
   "execution_count": 2,
   "metadata": {},
   "outputs": [
    {
     "name": "stdout",
     "output_type": "stream",
     "text": [
      "0.5\n"
     ]
    }
   ],
   "source": [
    "print(prior_buy)"
   ]
  },
  {
   "cell_type": "markdown",
   "metadata": {},
   "source": [
    "$$\\hat{a} = P(Y=1) = 0.5$$"
   ]
  },
  {
   "cell_type": "code",
   "execution_count": 3,
   "metadata": {},
   "outputs": [],
   "source": [
    "### Part (b) - Likelihood of each feature \n",
    "\n",
    "## Feature - Age\n",
    "#P(X_i_1 = \"<=20\"/Y=1)\n",
    "p_lt20_buy = 3/7\n",
    "#P(X_i_1 = \"21 to 30\"/Y=1)\n",
    "p_21to30_buy = 2/7\n",
    "#P(X_i_1 = \">30\"/Y=1)\n",
    "p_gt30_buy = 1-p_lt20_buy-p_21to30_buy\n",
    "\n",
    "#P(X_i_1 = \"<=20\"/Y=0)\n",
    "p_lt20_nobuy = 2/7\n",
    "#P(X_i_1 = \"21 to 30\"/Y=0)\n",
    "p_21to30_nobuy = 2/7\n",
    "#P(X_i_1 = \">30\"/Y=0)\n",
    "p_gt30_nobuy = 1-p_lt20_nobuy-p_21to30_nobuy\n",
    "\n",
    "## Feature - Income\n",
    "#P(X_i_2 = high/Y=1)\n",
    "p_high_buy = 4/7\n",
    "#P(X_i_2 = medium/Y=1)\n",
    "p_medium_buy = 1/7\n",
    "#P(X_i_2 = low/Y=1)\n",
    "p_low_buy = 1-p_high_buy-p_medium_buy\n",
    "\n",
    "#P(X_i_2 = high/Y=0)\n",
    "p_high_nobuy = 1/7\n",
    "#P(X_i_2 = medium/Y=0)\n",
    "p_medium_nobuy = 5/7\n",
    "#P(X_i_2 = low/Y=0)\n",
    "p_low_nobuy = 1-p_high_nobuy-p_medium_nobuy\n",
    "\n",
    "## Feature - Status\n",
    "#P(X_i_3 = students/Y=1)\n",
    "p_students_buy = 3/7\n",
    "#P(X_i_3 = married/Y=1)\n",
    "p_married_buy = 1-p_students_buy\n",
    "\n",
    "#P(X_i_3 = students/Y=0)\n",
    "p_students_nobuy = 3/7\n",
    "#P(X_i_3 = married/Y=0)\n",
    "p_married_nobuy = 1 - p_students_nobuy"
   ]
  },
  {
   "cell_type": "code",
   "execution_count": 66,
   "metadata": {},
   "outputs": [
    {
     "name": "stdout",
     "output_type": "stream",
     "text": [
      "j=1,2,3 represent features Age, Income and Status, respectively\n",
      "\n",
      "Y=1 represents bought, and Y=0 represents not bought\n",
      "\n",
      "P(X_{i1}= '<=20'|Y=1) = 0.428571\n",
      "P(X_{i1}= '21 to 30'|Y=1) = 0.285714\n",
      "P(X_{i1}= '>30'|Y=1) = 0.285714\n",
      "P(X_{i1}= '<=20'|Y=0) = 0.285714\n",
      "P(X_{i1}= '21 to 30'|Y=0) = 0.285714\n",
      "P(X_{i1}= '>30'|Y=0) = 0.428571\n",
      "\n",
      "P(X_{i2}= 'low'|Y=1) = 0.285714\n",
      "P(X_{i2}= 'medium'|Y=1) = 0.142857\n",
      "P(X_{i2}= 'high'|Y=1) = 0.571429\n",
      "P(X_{i2}= 'low'|Y=0) = 0.142857\n",
      "P(X_{i2}= 'medium'|Y=0) = 0.714286\n",
      "P(X_{i2}= 'high'|Y=0) = 0.142857\n",
      "\n",
      "P(X_{i3}= 'student'|Y=1) = 0.428571\n",
      "P(X_{i3}= 'married'|Y=1) = 0.571429\n",
      "P(X_{i3}= 'student'|Y=0) = 0.428571\n",
      "P(X_{i3}= 'married'|Y=0) = 0.571429\n"
     ]
    }
   ],
   "source": [
    "print(\"j=1,2,3 represent features Age, Income and Status, respectively\\n\")\n",
    "print(\"Y=1 represents bought, and Y=0 represents not bought\\n\")\n",
    "print(\"P(X_{i1}= '<=20'|Y=1) = %f\"%p_lt20_buy)\n",
    "print(\"P(X_{i1}= '21 to 30'|Y=1) = %f\"%p_21to30_buy)\n",
    "print(\"P(X_{i1}= '>30'|Y=1) = %f\"%p_gt30_buy)\n",
    "print(\"P(X_{i1}= '<=20'|Y=0) = %f\"%p_lt20_nobuy)\n",
    "print(\"P(X_{i1}= '21 to 30'|Y=0) = %f\"%p_21to30_nobuy)\n",
    "print(\"P(X_{i1}= '>30'|Y=0) = %f\"%p_gt30_nobuy)\n",
    "print(\"\")\n",
    "print(\"P(X_{i2}= 'low'|Y=1) = %f\"%p_low_buy)\n",
    "print(\"P(X_{i2}= 'medium'|Y=1) = %f\"%p_medium_buy)\n",
    "print(\"P(X_{i2}= 'high'|Y=1) = %f\"%p_high_buy)\n",
    "print(\"P(X_{i2}= 'low'|Y=0) = %f\"%p_low_nobuy)\n",
    "print(\"P(X_{i2}= 'medium'|Y=0) = %f\"%p_medium_nobuy)\n",
    "print(\"P(X_{i2}= 'high'|Y=0) = %f\"%p_high_nobuy)\n",
    "print(\"\")\n",
    "print(\"P(X_{i3}= 'student'|Y=1) = %f\"%p_students_buy)\n",
    "print(\"P(X_{i3}= 'married'|Y=1) = %f\"%p_married_buy)\n",
    "print(\"P(X_{i3}= 'student'|Y=0) = %f\"%p_students_buy)\n",
    "print(\"P(X_{i3}= 'married'|Y=0) = %f\"%p_married_nobuy)"
   ]
  },
  {
   "cell_type": "code",
   "execution_count": 53,
   "metadata": {},
   "outputs": [],
   "source": [
    "### Part (c) -Estimating total likelihoods of all feature combinations, for class 1\n",
    "\n",
    "#P(X_i = \"\"<=20\",\"low\",\"students\"\"/Y=1)\n",
    "p_lt20_low_students_buy = p_lt20_buy*p_low_buy*p_students_buy\n",
    "#P(X_i = \"\"<=20\",\"low\",\"married\"\"/Y=1)\n",
    "p_lt20_low_married_buy = p_lt20_buy*p_low_buy*p_married_buy\n",
    "#P(X_i = \"\"<=20\",\"medium\",\"students\"\"/Y=1)\n",
    "p_lt20_medium_students_buy = p_lt20_buy*p_medium_buy*p_students_buy\n",
    "#P(X_i = \"\"<=20\",\"medium\",\"married\"\"/Y=1)\n",
    "p_lt20_medium_married_buy = p_lt20_buy*p_medium_buy*p_married_buy\n",
    "#P(X_i = \"\"<=20\",\"high\",\"students\"\"/Y=1)\n",
    "p_lt20_high_students_buy = p_lt20_buy*p_high_buy*p_students_buy\n",
    "#P(X_i = \"\"<=20\",\"high\",\"married\"\"/Y=1)\n",
    "p_lt20_high_married_buy = p_lt20_buy*p_high_buy*p_married_buy\n",
    "\n",
    "#P(X_i = \"\"21 to 30\",\"low\",\"students\"\"/Y=1)\n",
    "p_21to30_low_students_buy = p_21to30_buy*p_low_buy*p_students_buy\n",
    "#P(X_i = \"\"21 to 30\",\"low\",\"married\"\"/Y=1)\n",
    "p_21to30_low_married_buy = p_21to30_buy*p_low_buy*p_married_buy\n",
    "#P(X_i = \"\"21 to 30\",\"medium\",\"students\"\"/Y=1)\n",
    "p_21to30_medium_students_buy = p_21to30_buy*p_medium_buy*p_students_buy\n",
    "#P(X_i = \"\"21 to 30\",\"medium\",\"married\"\"/Y=1)\n",
    "p_21to30_medium_married_buy = p_21to30_buy*p_medium_buy*p_married_buy\n",
    "#P(X_i = \"\"21 to 30\",\"high\",\"students\"\"/Y=1)\n",
    "p_21to30_high_students_buy = p_21to30_buy*p_high_buy*p_students_buy\n",
    "#P(X_i = \"\"21 to 30\",\"high\",\"married\"\"/Y=1)\n",
    "p_21to30_high_married_buy = p_21to30_buy*p_high_buy*p_married_buy\n",
    "\n",
    "#P(X_i = \"\">30\",\"low\",\"students\"\"/Y=1)\n",
    "p_gt30_low_students_buy = p_gt30_buy*p_low_buy*p_students_buy\n",
    "#P(X_i = \"\">30\",\"low\",\"married\"\"/Y=1)\n",
    "p_gt30_low_married_buy = p_gt30_buy*p_low_buy*p_married_buy\n",
    "#P(X_i = \"\">30\",\"medium\",\"students\"\"/Y=1)\n",
    "p_gt30_medium_students_buy = p_gt30_buy*p_medium_buy*p_students_buy\n",
    "#P(X_i = \"\">30\",\"medium\",\"married\"\"/Y=1)\n",
    "p_gt30_medium_married_buy = p_gt30_buy*p_medium_buy*p_married_buy\n",
    "#P(X_i = \"\">30\",\"high\",\"students\"\"/Y=1)\n",
    "p_gt30_high_students_buy = p_gt30_buy*p_high_buy*p_students_buy\n",
    "#P(X_i = \"\">30\",\"high\",\"married\"\"/Y=1)\n",
    "p_gt30_high_married_buy = p_gt30_buy*p_high_buy*p_married_buy\n"
   ]
  },
  {
   "cell_type": "code",
   "execution_count": 59,
   "metadata": {},
   "outputs": [],
   "source": [
    "### Part (c) -Estimating total likelihoods of all feature combinations, for class 0\n",
    "\n",
    "#P(X_i = \"\"<=20\",\"low\",\"students\"\"/Y=0)\n",
    "p_lt20_low_students_nobuy = p_lt20_nobuy*p_low_nobuy*p_students_nobuy\n",
    "#P(X_i = \"\"<=20\",\"low\",\"married\"\"/Y=0)\n",
    "p_lt20_low_married_nobuy = p_lt20_nobuy*p_low_nobuy*p_married_nobuy\n",
    "#P(X_i = \"\"<=20\",\"medium\",\"students\"\"/Y=0)\n",
    "p_lt20_medium_students_nobuy = p_lt20_nobuy*p_medium_nobuy*p_students_nobuy\n",
    "#P(X_i = \"\"<=20\",\"medium\",\"married\"\"/Y=0)\n",
    "p_lt20_medium_married_nobuy = p_lt20_nobuy*p_medium_nobuy*p_married_nobuy\n",
    "#P(X_i = \"\"<=20\",\"high\",\"students\"\"/Y=0)\n",
    "p_lt20_high_students_nobuy = p_lt20_nobuy*p_high_nobuy*p_students_nobuy\n",
    "#P(X_i = \"\"<=20\",\"high\",\"married\"\"/Y=0)\n",
    "p_lt20_high_married_nobuy = p_lt20_nobuy*p_high_nobuy*p_married_nobuy\n",
    "\n",
    "#P(X_i = \"\"21 to 30\",\"low\",\"students\"\"/Y=0)\n",
    "p_21to30_low_students_nobuy = p_21to30_nobuy*p_low_nobuy*p_students_nobuy\n",
    "#P(X_i = \"\"21 to 30\",\"low\",\"married\"\"/Y=0)\n",
    "p_21to30_low_married_nobuy = p_21to30_nobuy*p_low_nobuy*p_married_nobuy\n",
    "#P(X_i = \"\"21 to 30\",\"medium\",\"students\"\"/Y=0)\n",
    "p_21to30_medium_students_nobuy = p_21to30_nobuy*p_medium_nobuy*p_students_nobuy\n",
    "#P(X_i = \"\"21 to 30\",\"medium\",\"married\"\"/Y=0)\n",
    "p_21to30_medium_married_nobuy = p_21to30_nobuy*p_medium_nobuy*p_married_nobuy\n",
    "#P(X_i = \"\"21 to 30\",\"high\",\"students\"\"/Y=0)\n",
    "p_21to30_high_students_nobuy = p_21to30_nobuy*p_high_nobuy*p_students_nobuy\n",
    "#P(X_i = \"\"21 to 30\",\"high\",\"married\"\"/Y=0)\n",
    "p_21to30_high_married_nobuy = p_21to30_nobuy*p_high_nobuy*p_married_nobuy\n",
    "\n",
    "#P(X_i = \"\">30\",\"low\",\"students\"\"/Y=0)\n",
    "p_gt30_low_students_nobuy = p_gt30_nobuy*p_low_nobuy*p_students_nobuy\n",
    "#P(X_i = \"\">30\",\"low\",\"married\"\"/Y=0)\n",
    "p_gt30_low_married_nobuy = p_gt30_nobuy*p_low_nobuy*p_married_nobuy\n",
    "#P(X_i = \"\">30\",\"medium\",\"students\"\"/Y=0)\n",
    "p_gt30_medium_students_nobuy = p_gt30_nobuy*p_medium_nobuy*p_students_nobuy\n",
    "#P(X_i = \"\">30\",\"medium\",\"married\"\"/Y=0)\n",
    "p_gt30_medium_married_nobuy = p_gt30_nobuy*p_medium_nobuy*p_married_nobuy\n",
    "#P(X_i = \"\">30\",\"high\",\"students\"\"/Y=0)\n",
    "p_gt30_high_students_nobuy = p_gt30_nobuy*p_high_nobuy*p_students_nobuy\n",
    "#P(X_i = \"\">30\",\"high\",\"married\"\"/Y=0)\n",
    "p_gt30_high_married_nobuy = p_gt30_nobuy*p_high_nobuy*p_married_nobuy\n"
   ]
  },
  {
   "cell_type": "code",
   "execution_count": 62,
   "metadata": {},
   "outputs": [
    {
     "name": "stdout",
     "output_type": "stream",
     "text": [
      "P(X_{i}= '<=20','low','student'|Y=1) = 0.052478\n",
      "P(X_{i}= '<=20','low','married'|Y=1) = 0.069971\n",
      "P(X_{i}= '<=20','medium','student'|Y=1) = 0.026239\n",
      "P(X_{i}= '<=20','medium','married'|Y=1) = 0.034985\n",
      "P(X_{i}= '<=20','high','student'|Y=1) = 0.104956\n",
      "P(X_{i}= '<=20','high','married'|Y=1) = 0.139942\n",
      "\n",
      "P(X_{i}= '<=20','low','student'|Y=0) = 0.017493\n",
      "P(X_{i}= '<=20','low','married'|Y=0) = 0.023324\n",
      "P(X_{i}= '<=20','medium','student'|Y=0) = 0.087464\n",
      "P(X_{i}= '<=20','medium','married'|Y=0) = 0.116618\n",
      "P(X_{i}= '<=20','high','student'|Y=0) = 0.017493\n",
      "P(X_{i}= '<=20','high','married'|Y=0) = 0.023324\n",
      "\n",
      "P(X_{i}= '21 to 30','low','student'|Y=1) = 0.034985\n",
      "P(X_{i}= '21 to 30','low','married'|Y=1) = 0.046647\n",
      "P(X_{i}= '21 to 30','medium','student'|Y=1) = 0.017493\n",
      "P(X_{i}= '21 to 30','medium','married'|Y=1) = 0.023324\n",
      "P(X_{i}= '21 to 30','high','student'|Y=1) = 0.069971\n",
      "P(X_{i}= '21 to 30','high','married'|Y=1) = 0.093294\n",
      "\n",
      "P(X_{i}= '21 to 30','low','student'|Y=0) = 0.017493\n",
      "P(X_{i}= '21 to 30','low','married'|Y=0) = 0.023324\n",
      "P(X_{i}= '21 to 30','medium','student'|Y=0) = 0.087464\n",
      "P(X_{i}= '21 to 30','medium','married'|Y=0) = 0.116618\n",
      "P(X_{i}= '21 to 30','high','student'|Y=0) = 0.017493\n",
      "P(X_{i}= '21 to 30','high','married'|Y=0) = 0.023324\n",
      "\n",
      "P(X_{i}= '>30','low','student'|Y=1) = 0.034985\n",
      "P(X_{i}= '>30','low','married'|Y=1) = 0.046647\n",
      "P(X_{i}= '>30','medium','student'|Y=1) = 0.017493\n",
      "P(X_{i}= '>30','medium','married'|Y=1) = 0.023324\n",
      "P(X_{i}= '>30','high','student'|Y=1) = 0.069971\n",
      "P(X_{i}= '>30','high','married'|Y=1) = 0.093294\n",
      "\n",
      "P(X_{i}= '>30','low','student'|Y=0) = 0.026239\n",
      "P(X_{i}= '>30','low','married'|Y=0) = 0.034985\n",
      "P(X_{i}= '>30','medium','student'|Y=0) = 0.131195\n",
      "P(X_{i}= '>30','medium','married'|Y=0) = 0.174927\n",
      "P(X_{i}= '>30','high','student'|Y=0) = 0.026239\n",
      "P(X_{i}= '>30','high','married'|Y=0) = 0.034985\n"
     ]
    }
   ],
   "source": [
    "print(\"P(X_{i}= '<=20','low','student'|Y=1) = %f\"%p_lt20_low_students_buy)\n",
    "print(\"P(X_{i}= '<=20','low','married'|Y=1) = %f\"%p_lt20_low_married_buy)\n",
    "print(\"P(X_{i}= '<=20','medium','student'|Y=1) = %f\"%p_lt20_medium_students_buy)\n",
    "print(\"P(X_{i}= '<=20','medium','married'|Y=1) = %f\"%p_lt20_medium_married_buy)\n",
    "print(\"P(X_{i}= '<=20','high','student'|Y=1) = %f\"%p_lt20_high_students_buy)\n",
    "print(\"P(X_{i}= '<=20','high','married'|Y=1) = %f\"%p_lt20_high_married_buy)\n",
    "\n",
    "print(\"\")\n",
    "print(\"P(X_{i}= '<=20','low','student'|Y=0) = %f\"%p_lt20_low_students_nobuy)\n",
    "print(\"P(X_{i}= '<=20','low','married'|Y=0) = %f\"%p_lt20_low_married_nobuy)\n",
    "print(\"P(X_{i}= '<=20','medium','student'|Y=0) = %f\"%p_lt20_medium_students_nobuy)\n",
    "print(\"P(X_{i}= '<=20','medium','married'|Y=0) = %f\"%p_lt20_medium_married_nobuy)\n",
    "print(\"P(X_{i}= '<=20','high','student'|Y=0) = %f\"%p_lt20_high_students_nobuy)\n",
    "print(\"P(X_{i}= '<=20','high','married'|Y=0) = %f\"%p_lt20_high_married_nobuy)\n",
    "print(\"\")\n",
    "print(\"P(X_{i}= '21 to 30','low','student'|Y=1) = %f\"%p_21to30_low_students_buy)\n",
    "print(\"P(X_{i}= '21 to 30','low','married'|Y=1) = %f\"%p_21to30_low_married_buy)\n",
    "print(\"P(X_{i}= '21 to 30','medium','student'|Y=1) = %f\"%p_21to30_medium_students_buy)\n",
    "print(\"P(X_{i}= '21 to 30','medium','married'|Y=1) = %f\"%p_21to30_medium_married_buy)\n",
    "print(\"P(X_{i}= '21 to 30','high','student'|Y=1) = %f\"%p_21to30_high_students_buy)\n",
    "print(\"P(X_{i}= '21 to 30','high','married'|Y=1) = %f\"%p_21to30_high_married_buy)\n",
    "print(\"\")\n",
    "print(\"P(X_{i}= '21 to 30','low','student'|Y=0) = %f\"%p_21to30_low_students_nobuy)\n",
    "print(\"P(X_{i}= '21 to 30','low','married'|Y=0) = %f\"%p_21to30_low_married_nobuy)\n",
    "print(\"P(X_{i}= '21 to 30','medium','student'|Y=0) = %f\"%p_21to30_medium_students_nobuy)\n",
    "print(\"P(X_{i}= '21 to 30','medium','married'|Y=0) = %f\"%p_21to30_medium_married_nobuy)\n",
    "print(\"P(X_{i}= '21 to 30','high','student'|Y=0) = %f\"%p_21to30_high_students_nobuy)\n",
    "print(\"P(X_{i}= '21 to 30','high','married'|Y=0) = %f\"%p_21to30_high_married_nobuy)\n",
    "print(\"\")\n",
    "print(\"P(X_{i}= '>30','low','student'|Y=1) = %f\"%p_gt30_low_students_buy)\n",
    "print(\"P(X_{i}= '>30','low','married'|Y=1) = %f\"%p_gt30_low_married_buy)\n",
    "print(\"P(X_{i}= '>30','medium','student'|Y=1) = %f\"%p_gt30_medium_students_buy)\n",
    "print(\"P(X_{i}= '>30','medium','married'|Y=1) = %f\"%p_gt30_medium_married_buy)\n",
    "print(\"P(X_{i}= '>30','high','student'|Y=1) = %f\"%p_gt30_high_students_buy)\n",
    "print(\"P(X_{i}= '>30','high','married'|Y=1) = %f\"%p_gt30_high_married_buy)\n",
    "print(\"\")\n",
    "print(\"P(X_{i}= '>30','low','student'|Y=0) = %f\"%p_gt30_low_students_nobuy)\n",
    "print(\"P(X_{i}= '>30','low','married'|Y=0) = %f\"%p_gt30_low_married_nobuy)\n",
    "print(\"P(X_{i}= '>30','medium','student'|Y=0) = %f\"%p_gt30_medium_students_nobuy)\n",
    "print(\"P(X_{i}= '>30','medium','married'|Y=0) = %f\"%p_gt30_medium_married_nobuy)\n",
    "print(\"P(X_{i}= '>30','high','student'|Y=0) = %f\"%p_gt30_high_students_nobuy)\n",
    "print(\"P(X_{i}= '>30','high','married'|Y=0) = %f\"%p_gt30_high_married_nobuy)"
   ]
  },
  {
   "cell_type": "code",
   "execution_count": 63,
   "metadata": {},
   "outputs": [],
   "source": [
    "#Part (d) - Calculating posterior probability of test data point - ('21 to 30', 'medium' , 'married')\n",
    "posterior_buy_xtest = p_21to30_medium_married_buy/(p_21to30_medium_married_buy+p_21to30_medium_married_nobuy)"
   ]
  },
  {
   "cell_type": "code",
   "execution_count": 64,
   "metadata": {},
   "outputs": [
    {
     "name": "stdout",
     "output_type": "stream",
     "text": [
      "0.16666666666666663\n"
     ]
    }
   ],
   "source": [
    "print(posterior_buy_xtest)"
   ]
  },
  {
   "cell_type": "markdown",
   "metadata": {},
   "source": [
    "$$p_{test} = 0.166667$$"
   ]
  }
 ],
 "metadata": {
  "kernelspec": {
   "display_name": "Python 3",
   "language": "python",
   "name": "python3"
  },
  "language_info": {
   "codemirror_mode": {
    "name": "ipython",
    "version": 3
   },
   "file_extension": ".py",
   "mimetype": "text/x-python",
   "name": "python",
   "nbconvert_exporter": "python",
   "pygments_lexer": "ipython3",
   "version": "3.7.6"
  },
  "toc": {
   "nav_menu": {},
   "number_sections": true,
   "sideBar": true,
   "skip_h1_title": false,
   "title_cell": "Table of Contents",
   "title_sidebar": "Contents",
   "toc_cell": false,
   "toc_position": {},
   "toc_section_display": true,
   "toc_window_display": false
  }
 },
 "nbformat": 4,
 "nbformat_minor": 2
}
